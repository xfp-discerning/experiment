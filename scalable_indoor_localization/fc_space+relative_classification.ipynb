{
 "cells": [
  {
   "cell_type": "code",
   "execution_count": 1,
   "id": "7e64ab57",
   "metadata": {},
   "outputs": [],
   "source": [
    "import tensorflow as tf\n",
    "import pandas as pd\n",
    "import numpy as np\n",
    "from sklearn.preprocessing import scale"
   ]
  },
  {
   "cell_type": "code",
   "execution_count": 2,
   "id": "95aa0271",
   "metadata": {},
   "outputs": [],
   "source": [
    "path = './UJIIndoorLoc/trainingData2.csv'\n",
    "train_df = pd.read_csv(path,header=0)\n",
    "train_ap_features = scale(np.asarray(train_df.iloc[:,:520]).astype(float),axis = 1)\n",
    "train_df['REFPOINT'] = train_df.apply(lambda row: str(int(row['SPACEID'])) + str(int(row['RELATIVEPOSITION'])),\n",
    "                                  axis=1)"
   ]
  },
  {
   "cell_type": "code",
   "execution_count": 4,
   "id": "fe8f18c3",
   "metadata": {},
   "outputs": [
    {
     "data": {
      "text/plain": [
       "213"
      ]
     },
     "execution_count": 4,
     "metadata": {},
     "output_type": "execute_result"
    }
   ],
   "source": [
    "train_labels = np.asarray(pd.get_dummies(train_df['REFPOINT']))\n",
    "OUTPUT_DIM = train_labels.shape[1]\n",
    "OUTPUT_DIM"
   ]
  },
  {
   "cell_type": "code",
   "execution_count": 5,
   "id": "adf12251",
   "metadata": {},
   "outputs": [
    {
     "name": "stdout",
     "output_type": "stream",
     "text": [
      "16118 训练数据\n",
      "1818 验证数据 \n",
      "2001 测试数据\n"
     ]
    }
   ],
   "source": [
    "train_test_split = np.random.rand(len(train_ap_features)) < 0.9\n",
    "x_train_val = train_ap_features[train_test_split]\n",
    "y_train_val = train_labels[train_test_split]\n",
    "x_test = train_ap_features[~train_test_split]\n",
    "y_test = train_labels[~train_test_split]\n",
    "\n",
    "train_val_split = np.random.rand(len(x_train_val)) < 0.9\n",
    "x_train = x_train_val[train_val_split]\n",
    "y_train = y_train_val[train_val_split]\n",
    "x_val = x_train_val[~train_val_split]\n",
    "y_val = y_train_val[~train_val_split]\n",
    "\n",
    "# x_train.shape,y_train.shape\n",
    "print(len(x_train), '训练数据')   #  训练数据 \n",
    "print(len(x_val), '验证数据 ')    #  验证数据 \n",
    "print(len(x_test), '测试数据')    #  测试数据"
   ]
  },
  {
   "cell_type": "code",
   "execution_count": 21,
   "id": "59c4cb70",
   "metadata": {},
   "outputs": [
    {
     "name": "stdout",
     "output_type": "stream",
     "text": [
      "Epoch 1/50\n",
      "252/252 [==============================] - 1s 3ms/step - loss: 0.0517 - accuracy: 0.0373 - val_loss: 0.0239 - val_accuracy: 0.0715\n",
      "Epoch 2/50\n",
      "252/252 [==============================] - 1s 2ms/step - loss: 0.0227 - accuracy: 0.1384 - val_loss: 0.0188 - val_accuracy: 0.2074\n",
      "Epoch 3/50\n",
      "252/252 [==============================] - 1s 2ms/step - loss: 0.0188 - accuracy: 0.2677 - val_loss: 0.0160 - val_accuracy: 0.3003\n",
      "Epoch 4/50\n",
      "252/252 [==============================] - 1s 2ms/step - loss: 0.0162 - accuracy: 0.3736 - val_loss: 0.0143 - val_accuracy: 0.3823\n",
      "Epoch 5/50\n",
      "252/252 [==============================] - 1s 2ms/step - loss: 0.0145 - accuracy: 0.4622 - val_loss: 0.0130 - val_accuracy: 0.4450\n",
      "Epoch 6/50\n",
      "252/252 [==============================] - 1s 2ms/step - loss: 0.0132 - accuracy: 0.5359 - val_loss: 0.0122 - val_accuracy: 0.4989\n",
      "Epoch 7/50\n",
      "252/252 [==============================] - 1s 2ms/step - loss: 0.0121 - accuracy: 0.5960 - val_loss: 0.0113 - val_accuracy: 0.5600\n",
      "Epoch 8/50\n",
      "252/252 [==============================] - 1s 2ms/step - loss: 0.0112 - accuracy: 0.6384 - val_loss: 0.0111 - val_accuracy: 0.5633\n",
      "Epoch 9/50\n",
      "252/252 [==============================] - 1s 2ms/step - loss: 0.0106 - accuracy: 0.6693 - val_loss: 0.0108 - val_accuracy: 0.6040\n",
      "Epoch 10/50\n",
      "252/252 [==============================] - 1s 2ms/step - loss: 0.0099 - accuracy: 0.7034 - val_loss: 0.0107 - val_accuracy: 0.5924\n",
      "Epoch 11/50\n",
      "252/252 [==============================] - 1s 2ms/step - loss: 0.0094 - accuracy: 0.7271 - val_loss: 0.0100 - val_accuracy: 0.6342\n",
      "Epoch 12/50\n",
      "252/252 [==============================] - 1s 2ms/step - loss: 0.0090 - accuracy: 0.7506 - val_loss: 0.0101 - val_accuracy: 0.6430\n",
      "Epoch 13/50\n",
      "252/252 [==============================] - 1s 2ms/step - loss: 0.0085 - accuracy: 0.7717 - val_loss: 0.0102 - val_accuracy: 0.6419\n",
      "Epoch 14/50\n",
      "252/252 [==============================] - 1s 2ms/step - loss: 0.0082 - accuracy: 0.7832 - val_loss: 0.0104 - val_accuracy: 0.6436\n",
      "Epoch 15/50\n",
      "252/252 [==============================] - 1s 2ms/step - loss: 0.0079 - accuracy: 0.7974 - val_loss: 0.0102 - val_accuracy: 0.6485\n",
      "Epoch 16/50\n",
      "252/252 [==============================] - 1s 2ms/step - loss: 0.0076 - accuracy: 0.8149 - val_loss: 0.0105 - val_accuracy: 0.6606\n",
      "Epoch 17/50\n",
      "252/252 [==============================] - 1s 2ms/step - loss: 0.0074 - accuracy: 0.8244 - val_loss: 0.0099 - val_accuracy: 0.6788\n",
      "Epoch 18/50\n",
      "252/252 [==============================] - 1s 2ms/step - loss: 0.0072 - accuracy: 0.8299 - val_loss: 0.0105 - val_accuracy: 0.6474\n",
      "Epoch 19/50\n",
      "252/252 [==============================] - 1s 2ms/step - loss: 0.0069 - accuracy: 0.8415 - val_loss: 0.0098 - val_accuracy: 0.6881\n",
      "Epoch 20/50\n",
      "252/252 [==============================] - 1s 2ms/step - loss: 0.0067 - accuracy: 0.8494 - val_loss: 0.0106 - val_accuracy: 0.6788\n",
      "Epoch 21/50\n",
      "252/252 [==============================] - 1s 2ms/step - loss: 0.0066 - accuracy: 0.8554 - val_loss: 0.0104 - val_accuracy: 0.6788\n",
      "Epoch 22/50\n",
      "252/252 [==============================] - 1s 2ms/step - loss: 0.0065 - accuracy: 0.8595 - val_loss: 0.0105 - val_accuracy: 0.6837\n",
      "Epoch 23/50\n",
      "252/252 [==============================] - 1s 2ms/step - loss: 0.0064 - accuracy: 0.8692 - val_loss: 0.0104 - val_accuracy: 0.6958\n",
      "Epoch 24/50\n",
      "252/252 [==============================] - 1s 2ms/step - loss: 0.0061 - accuracy: 0.8746 - val_loss: 0.0103 - val_accuracy: 0.7123\n",
      "Epoch 25/50\n",
      "252/252 [==============================] - 1s 2ms/step - loss: 0.0060 - accuracy: 0.8798 - val_loss: 0.0110 - val_accuracy: 0.6936\n",
      "Epoch 26/50\n",
      "252/252 [==============================] - 1s 2ms/step - loss: 0.0060 - accuracy: 0.8846 - val_loss: 0.0114 - val_accuracy: 0.6870\n",
      "Epoch 27/50\n",
      "252/252 [==============================] - 1s 2ms/step - loss: 0.0059 - accuracy: 0.8854 - val_loss: 0.0116 - val_accuracy: 0.6914\n",
      "Epoch 28/50\n",
      "252/252 [==============================] - 1s 2ms/step - loss: 0.0059 - accuracy: 0.8863 - val_loss: 0.0113 - val_accuracy: 0.6953\n",
      "Epoch 29/50\n",
      "252/252 [==============================] - 1s 2ms/step - loss: 0.0059 - accuracy: 0.8852 - val_loss: 0.0112 - val_accuracy: 0.6947\n",
      "Epoch 30/50\n",
      "252/252 [==============================] - 1s 2ms/step - loss: 0.0057 - accuracy: 0.8915 - val_loss: 0.0114 - val_accuracy: 0.6903\n",
      "Epoch 31/50\n",
      "252/252 [==============================] - 1s 3ms/step - loss: 0.0056 - accuracy: 0.8933 - val_loss: 0.0119 - val_accuracy: 0.6870\n",
      "Epoch 32/50\n",
      "252/252 [==============================] - 1s 3ms/step - loss: 0.0056 - accuracy: 0.8983 - val_loss: 0.0122 - val_accuracy: 0.6854\n",
      "Epoch 33/50\n",
      "252/252 [==============================] - 1s 2ms/step - loss: 0.0056 - accuracy: 0.8967 - val_loss: 0.0120 - val_accuracy: 0.6837\n",
      "Epoch 34/50\n",
      "252/252 [==============================] - 1s 3ms/step - loss: 0.0054 - accuracy: 0.9063 - val_loss: 0.0118 - val_accuracy: 0.6953\n",
      "Epoch 35/50\n",
      "252/252 [==============================] - 1s 2ms/step - loss: 0.0053 - accuracy: 0.9061 - val_loss: 0.0121 - val_accuracy: 0.6892\n",
      "Epoch 36/50\n",
      "252/252 [==============================] - 1s 2ms/step - loss: 0.0054 - accuracy: 0.9071 - val_loss: 0.0124 - val_accuracy: 0.6925\n",
      "Epoch 37/50\n",
      "252/252 [==============================] - 1s 2ms/step - loss: 0.0052 - accuracy: 0.9126 - val_loss: 0.0127 - val_accuracy: 0.6854\n",
      "Epoch 38/50\n",
      "252/252 [==============================] - 1s 2ms/step - loss: 0.0052 - accuracy: 0.9100 - val_loss: 0.0117 - val_accuracy: 0.7101\n",
      "Epoch 39/50\n",
      "252/252 [==============================] - 1s 2ms/step - loss: 0.0052 - accuracy: 0.9113 - val_loss: 0.0129 - val_accuracy: 0.6898\n",
      "Epoch 40/50\n",
      "252/252 [==============================] - 1s 2ms/step - loss: 0.0052 - accuracy: 0.9115 - val_loss: 0.0134 - val_accuracy: 0.6793\n",
      "Epoch 41/50\n",
      "252/252 [==============================] - 1s 3ms/step - loss: 0.0051 - accuracy: 0.9161 - val_loss: 0.0130 - val_accuracy: 0.6980\n",
      "Epoch 42/50\n",
      "252/252 [==============================] - 1s 3ms/step - loss: 0.0052 - accuracy: 0.9167 - val_loss: 0.0127 - val_accuracy: 0.6986\n",
      "Epoch 43/50\n",
      "252/252 [==============================] - 1s 2ms/step - loss: 0.0051 - accuracy: 0.9157 - val_loss: 0.0126 - val_accuracy: 0.7068\n",
      "Epoch 44/50\n",
      "252/252 [==============================] - 1s 3ms/step - loss: 0.0050 - accuracy: 0.9193 - val_loss: 0.0133 - val_accuracy: 0.7057\n",
      "Epoch 45/50\n",
      "252/252 [==============================] - 1s 2ms/step - loss: 0.0050 - accuracy: 0.9211 - val_loss: 0.0131 - val_accuracy: 0.7030\n",
      "Epoch 46/50\n",
      "252/252 [==============================] - 1s 2ms/step - loss: 0.0050 - accuracy: 0.9205 - val_loss: 0.0139 - val_accuracy: 0.6898\n",
      "Epoch 47/50\n",
      "252/252 [==============================] - 1s 2ms/step - loss: 0.0050 - accuracy: 0.9196 - val_loss: 0.0135 - val_accuracy: 0.7074\n",
      "Epoch 48/50\n",
      "252/252 [==============================] - 1s 2ms/step - loss: 0.0049 - accuracy: 0.9212 - val_loss: 0.0140 - val_accuracy: 0.6925\n",
      "Epoch 49/50\n",
      "252/252 [==============================] - 1s 3ms/step - loss: 0.0049 - accuracy: 0.9237 - val_loss: 0.0139 - val_accuracy: 0.7024\n",
      "Epoch 50/50\n",
      "252/252 [==============================] - 1s 2ms/step - loss: 0.0050 - accuracy: 0.9214 - val_loss: 0.0139 - val_accuracy: 0.6964\n"
     ]
    },
    {
     "data": {
      "text/plain": [
       "<keras.callbacks.History at 0x1f9d66f5430>"
      ]
     },
     "execution_count": 21,
     "metadata": {},
     "output_type": "execute_result"
    }
   ],
   "source": [
    "from keras.layers import Dense, Dropout\n",
    "from keras.models import Sequential\n",
    "model = Sequential()\n",
    "sae_hidden_layers= [256,128,64,128,256]\n",
    "model.add(Dense(sae_hidden_layers[0],input_dim=520,activation='relu',use_bias=False))\n",
    "for units in sae_hidden_layers[1:]:\n",
    "    model.add(Dense(units, activation='relu', use_bias=False))\n",
    "model.add(Dense(OUTPUT_DIM, activation='sigmoid', use_bias=False))\n",
    "model.compile(optimizer='adam', loss='binary_crossentropy', metrics=['accuracy'])\n",
    "model.fit(x_train, y_train, validation_data=(x_val, y_val), batch_size=64, epochs=50, verbose=1)"
   ]
  },
  {
   "cell_type": "code",
   "execution_count": 22,
   "id": "c38e0ccc",
   "metadata": {},
   "outputs": [
    {
     "name": "stdout",
     "output_type": "stream",
     "text": [
      "Model: \"sequential_4\"\n",
      "_________________________________________________________________\n",
      " Layer (type)                Output Shape              Param #   \n",
      "=================================================================\n",
      " dense_26 (Dense)            (None, 256)               133120    \n",
      "                                                                 \n",
      " dense_27 (Dense)            (None, 128)               32768     \n",
      "                                                                 \n",
      " dense_28 (Dense)            (None, 64)                8192      \n",
      "                                                                 \n",
      " dense_29 (Dense)            (None, 128)               8192      \n",
      "                                                                 \n",
      " dense_30 (Dense)            (None, 256)               32768     \n",
      "                                                                 \n",
      " dense_31 (Dense)            (None, 213)               54528     \n",
      "                                                                 \n",
      "=================================================================\n",
      "Total params: 269,568\n",
      "Trainable params: 269,568\n",
      "Non-trainable params: 0\n",
      "_________________________________________________________________\n"
     ]
    }
   ],
   "source": [
    "model.summary()"
   ]
  },
  {
   "cell_type": "code",
   "execution_count": 23,
   "id": "acce4dc1",
   "metadata": {},
   "outputs": [
    {
     "name": "stdout",
     "output_type": "stream",
     "text": [
      "63/63 [==============================] - 0s 756us/step\n"
     ]
    },
    {
     "data": {
      "text/plain": [
       "0.7096451774112944"
      ]
     },
     "execution_count": 23,
     "metadata": {},
     "output_type": "execute_result"
    }
   ],
   "source": [
    "preds = model.predict(x_test, batch_size=32)\n",
    "results = np.equal(np.argmax(y_test, axis=1), np.argmax(preds, axis=1)).astype(int)\n",
    "acc = results.mean()\n",
    "acc"
   ]
  }
 ],
 "metadata": {
  "kernelspec": {
   "display_name": "tensorflow",
   "language": "python",
   "name": "tensorflow"
  },
  "language_info": {
   "codemirror_mode": {
    "name": "ipython",
    "version": 3
   },
   "file_extension": ".py",
   "mimetype": "text/x-python",
   "name": "python",
   "nbconvert_exporter": "python",
   "pygments_lexer": "ipython3",
   "version": "3.9.12"
  }
 },
 "nbformat": 4,
 "nbformat_minor": 5
}
