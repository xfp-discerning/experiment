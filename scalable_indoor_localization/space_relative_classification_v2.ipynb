{
 "cells": [
  {
   "cell_type": "code",
   "execution_count": 1,
   "id": "16366414",
   "metadata": {},
   "outputs": [],
   "source": [
    "import tensorflow as tf\n",
    "import pandas as pd\n",
    "import numpy as np\n",
    "from sklearn.preprocessing import scale"
   ]
  },
  {
   "cell_type": "code",
   "execution_count": 2,
   "id": "7ed7ceb7",
   "metadata": {},
   "outputs": [],
   "source": [
    "path = './UJIIndoorLoc/trainingData2.csv'\n",
    "train_df = pd.read_csv(path,header=0)\n",
    "train_ap_features = scale(np.asarray(train_df.iloc[:,:520]).astype(float),axis = 1)\n",
    "train_df['REFPOINT'] = train_df.apply(lambda row: str(int(row['SPACEID'])) + str(int(row['RELATIVEPOSITION'])),\n",
    "                                  axis=1)"
   ]
  },
  {
   "cell_type": "code",
   "execution_count": 3,
   "id": "764c2bea",
   "metadata": {},
   "outputs": [
    {
     "name": "stderr",
     "output_type": "stream",
     "text": [
      "C:\\Users\\xfp\\anaconda3\\envs\\tensorflow\\lib\\site-packages\\pandas\\core\\algorithms.py:798: FutureWarning: In a future version, the Index constructor will not infer numeric dtypes when passed object-dtype sequences (matching Series behavior)\n",
      "  uniques = Index(uniques)\n"
     ]
    }
   ],
   "source": [
    "blds = np.unique(train_df[['BUILDINGID']]) ##映射Building和Floor到REFPOINT的方法,减少编码量\n",
    "flrs = np.unique(train_df[['FLOOR']])\n",
    "\n",
    "for bld in blds:\n",
    "    for flr in flrs:\n",
    "        cond = (train_df['BUILDINGID'] == bld) & (train_df['FLOOR'] == flr)\n",
    "        _, idx = np.unique(train_df.loc[cond, 'REFPOINT'], return_inverse=True)  # refer to numpy.unique manual\n",
    "        train_df.loc[cond, 'REFPOINT'] = idx\n",
    "\n",
    "blds = np.asarray(pd.get_dummies(train_df['BUILDINGID']))#3\n",
    "flrs = np.asarray(pd.get_dummies(train_df['FLOOR']))#5\n",
    "rfps = np.asarray(pd.get_dummies(train_df['REFPOINT']))#110\n",
    "x_test_utm = (np.asarray(train_df['LONGITUDE'])).reshape(len(train_df),1)#1\n",
    "y_test_utm = (np.asarray(train_df['LATITUDE'])).reshape(len(train_df),1)#1\n",
    "train_labels = np.concatenate((blds, flrs, rfps,x_test_utm,y_test_utm), axis=1) #120\n",
    "OUTPUT_DIM = train_labels.shape[1]-2  #118\n",
    "# train_labels = np.concatenate((blds, flrs, rfps), axis=1)\n",
    "# OUTPUT_DIM = train_labels.shape[1]"
   ]
  },
  {
   "cell_type": "code",
   "execution_count": 4,
   "id": "8efba576",
   "metadata": {},
   "outputs": [
    {
     "name": "stdout",
     "output_type": "stream",
     "text": [
      "16170 训练数据\n",
      "1774 验证数据 \n",
      "1993 测试数据\n"
     ]
    },
    {
     "data": {
      "text/plain": [
       "array([[ 0.00000000e+00,  1.00000000e+00,  0.00000000e+00, ...,\n",
       "         0.00000000e+00, -7.54126430e+03,  4.86492078e+06],\n",
       "       [ 1.00000000e+00,  0.00000000e+00,  0.00000000e+00, ...,\n",
       "         0.00000000e+00, -7.63214360e+03,  4.86498222e+06],\n",
       "       [ 0.00000000e+00,  1.00000000e+00,  0.00000000e+00, ...,\n",
       "         0.00000000e+00, -7.56419630e+03,  4.86488719e+06],\n",
       "       ...,\n",
       "       [ 0.00000000e+00,  1.00000000e+00,  0.00000000e+00, ...,\n",
       "         0.00000000e+00, -7.53732190e+03,  4.86489578e+06],\n",
       "       [ 0.00000000e+00,  1.00000000e+00,  0.00000000e+00, ...,\n",
       "         0.00000000e+00, -7.53640920e+03,  4.86493462e+06],\n",
       "       [ 0.00000000e+00,  1.00000000e+00,  0.00000000e+00, ...,\n",
       "         0.00000000e+00, -7.51310449e+03,  4.86494387e+06]])"
      ]
     },
     "execution_count": 4,
     "metadata": {},
     "output_type": "execute_result"
    }
   ],
   "source": [
    "train_test_split = np.random.rand(len(train_ap_features)) < 0.9\n",
    "x_train_val = train_ap_features[train_test_split]\n",
    "y_train_val = train_labels[train_test_split]\n",
    "x_test = train_ap_features[~train_test_split]\n",
    "y_test = train_labels[~train_test_split]\n",
    "\n",
    "train_val_split = np.random.rand(len(x_train_val)) < 0.9\n",
    "x_train = x_train_val[train_val_split]\n",
    "y_train = y_train_val[train_val_split]\n",
    "x_val = x_train_val[~train_val_split]\n",
    "y_val = y_train_val[~train_val_split]\n",
    "\n",
    "# x_train.shape,y_train.shape\n",
    "print(len(x_train), '训练数据')   #  训练数据 \n",
    "print(len(x_val), '验证数据 ')    #  验证数据 \n",
    "print(len(x_test), '测试数据')    #  测试数据\n",
    "y_val"
   ]
  },
  {
   "cell_type": "markdown",
   "id": "4874031b",
   "metadata": {},
   "source": [
    "### building sae"
   ]
  },
  {
   "cell_type": "code",
   "execution_count": 5,
   "id": "70518109",
   "metadata": {
    "scrolled": false
   },
   "outputs": [
    {
     "name": "stdout",
     "output_type": "stream",
     "text": [
      "Epoch 1/20\n",
      "253/253 [==============================] - 1s 2ms/step - loss: 0.2703\n",
      "Epoch 2/20\n",
      "253/253 [==============================] - 1s 2ms/step - loss: 0.1138\n",
      "Epoch 3/20\n",
      "253/253 [==============================] - 1s 2ms/step - loss: 0.0865\n",
      "Epoch 4/20\n",
      "253/253 [==============================] - 1s 2ms/step - loss: 0.0719\n",
      "Epoch 5/20\n",
      "253/253 [==============================] - 1s 2ms/step - loss: 0.0626\n",
      "Epoch 6/20\n",
      "253/253 [==============================] - 1s 2ms/step - loss: 0.0558\n",
      "Epoch 7/20\n",
      "253/253 [==============================] - 1s 2ms/step - loss: 0.0512\n",
      "Epoch 8/20\n",
      "253/253 [==============================] - 1s 2ms/step - loss: 0.0469\n",
      "Epoch 9/20\n",
      "253/253 [==============================] - 1s 2ms/step - loss: 0.0437\n",
      "Epoch 10/20\n",
      "253/253 [==============================] - 1s 2ms/step - loss: 0.0410\n",
      "Epoch 11/20\n",
      "253/253 [==============================] - 1s 2ms/step - loss: 0.0387\n",
      "Epoch 12/20\n",
      "253/253 [==============================] - 1s 2ms/step - loss: 0.0367\n",
      "Epoch 13/20\n",
      "253/253 [==============================] - 1s 2ms/step - loss: 0.0350\n",
      "Epoch 14/20\n",
      "253/253 [==============================] - 1s 2ms/step - loss: 0.0332\n",
      "Epoch 15/20\n",
      "253/253 [==============================] - 1s 2ms/step - loss: 0.0319\n",
      "Epoch 16/20\n",
      "253/253 [==============================] - 1s 2ms/step - loss: 0.0307\n",
      "Epoch 17/20\n",
      "253/253 [==============================] - 1s 2ms/step - loss: 0.0298\n",
      "Epoch 18/20\n",
      "253/253 [==============================] - 1s 2ms/step - loss: 0.0288\n",
      "Epoch 19/20\n",
      "253/253 [==============================] - 1s 2ms/step - loss: 0.0282\n",
      "Epoch 20/20\n",
      "253/253 [==============================] - 1s 2ms/step - loss: 0.0273\n"
     ]
    },
    {
     "data": {
      "text/plain": [
       "<keras.callbacks.History at 0x1e94e9338b0>"
      ]
     },
     "execution_count": 5,
     "metadata": {},
     "output_type": "execute_result"
    }
   ],
   "source": [
    "from keras.layers import Dense, Dropout\n",
    "from keras.models import Sequential\n",
    "model = Sequential()\n",
    "sae_hidden_layers= [256,128,64,128,256]\n",
    "model.add(Dense(sae_hidden_layers[0],input_dim=520,activation=tf.keras.layers.LeakyReLU(alpha=0.3),use_bias=False))\n",
    "for units in sae_hidden_layers[1:]:\n",
    "    model.add(Dense(units, activation=tf.keras.layers.LeakyReLU(alpha=0.3), use_bias=False))\n",
    "model.add(Dense(520, activation=tf.keras.layers.LeakyReLU(alpha=0.3), use_bias=False))\n",
    "model.compile(optimizer='adam', loss='mse')\n",
    "model.fit(x_train,x_train,batch_size=64,epochs=20,verbose=1)"
   ]
  },
  {
   "cell_type": "code",
   "execution_count": 6,
   "id": "f8f9016b",
   "metadata": {},
   "outputs": [],
   "source": [
    "# path = './sae_model.hdf5'\n",
    "# model.save(path)\n",
    "num_to_remove = (len(sae_hidden_layers) + 1) // 2\n",
    "for i in range(num_to_remove):\n",
    "    model.pop()"
   ]
  },
  {
   "cell_type": "markdown",
   "id": "f0aa1457",
   "metadata": {},
   "source": [
    "### build and train a complete model with the trained SAE encoder and a classifier"
   ]
  },
  {
   "cell_type": "code",
   "execution_count": 7,
   "id": "fc7c8c53",
   "metadata": {},
   "outputs": [
    {
     "name": "stdout",
     "output_type": "stream",
     "text": [
      "Epoch 1/20\n",
      "253/253 [==============================] - 1s 2ms/step - loss: 0.0857 - accuracy: 0.8742 - val_loss: 0.0458 - val_accuracy: 0.8974\n",
      "Epoch 2/20\n",
      "253/253 [==============================] - 0s 2ms/step - loss: 0.0403 - accuracy: 0.7895 - val_loss: 0.0364 - val_accuracy: 0.7306\n",
      "Epoch 3/20\n",
      "253/253 [==============================] - 1s 2ms/step - loss: 0.0334 - accuracy: 0.7083 - val_loss: 0.0318 - val_accuracy: 0.6759\n",
      "Epoch 4/20\n",
      "253/253 [==============================] - 1s 2ms/step - loss: 0.0293 - accuracy: 0.6599 - val_loss: 0.0289 - val_accuracy: 0.6888\n",
      "Epoch 5/20\n",
      "253/253 [==============================] - 1s 2ms/step - loss: 0.0263 - accuracy: 0.6393 - val_loss: 0.0265 - val_accuracy: 0.6663\n",
      "Epoch 6/20\n",
      "253/253 [==============================] - 0s 2ms/step - loss: 0.0240 - accuracy: 0.6236 - val_loss: 0.0251 - val_accuracy: 0.6793\n",
      "Epoch 7/20\n",
      "253/253 [==============================] - 0s 2ms/step - loss: 0.0223 - accuracy: 0.6153 - val_loss: 0.0243 - val_accuracy: 0.5986\n",
      "Epoch 8/20\n",
      "253/253 [==============================] - 1s 2ms/step - loss: 0.0208 - accuracy: 0.5985 - val_loss: 0.0229 - val_accuracy: 0.6776\n",
      "Epoch 9/20\n",
      "253/253 [==============================] - 1s 2ms/step - loss: 0.0194 - accuracy: 0.6204 - val_loss: 0.0217 - val_accuracy: 0.6133\n",
      "Epoch 10/20\n",
      "253/253 [==============================] - 1s 2ms/step - loss: 0.0184 - accuracy: 0.6073 - val_loss: 0.0215 - val_accuracy: 0.5941\n",
      "Epoch 11/20\n",
      "253/253 [==============================] - 1s 2ms/step - loss: 0.0175 - accuracy: 0.5952 - val_loss: 0.0213 - val_accuracy: 0.6139\n",
      "Epoch 12/20\n",
      "253/253 [==============================] - 1s 2ms/step - loss: 0.0167 - accuracy: 0.6033 - val_loss: 0.0206 - val_accuracy: 0.5800\n",
      "Epoch 13/20\n",
      "253/253 [==============================] - 1s 2ms/step - loss: 0.0160 - accuracy: 0.5921 - val_loss: 0.0201 - val_accuracy: 0.5936\n",
      "Epoch 14/20\n",
      "253/253 [==============================] - 0s 2ms/step - loss: 0.0151 - accuracy: 0.6194 - val_loss: 0.0201 - val_accuracy: 0.6466\n",
      "Epoch 15/20\n",
      "253/253 [==============================] - 1s 2ms/step - loss: 0.0147 - accuracy: 0.6004 - val_loss: 0.0200 - val_accuracy: 0.5795\n",
      "Epoch 16/20\n",
      "253/253 [==============================] - 1s 2ms/step - loss: 0.0142 - accuracy: 0.5912 - val_loss: 0.0204 - val_accuracy: 0.6359\n",
      "Epoch 17/20\n",
      "253/253 [==============================] - 1s 2ms/step - loss: 0.0137 - accuracy: 0.5993 - val_loss: 0.0211 - val_accuracy: 0.6274\n",
      "Epoch 18/20\n",
      "253/253 [==============================] - 0s 2ms/step - loss: 0.0135 - accuracy: 0.5949 - val_loss: 0.0200 - val_accuracy: 0.5693\n",
      "Epoch 19/20\n",
      "253/253 [==============================] - 1s 2ms/step - loss: 0.0131 - accuracy: 0.5866 - val_loss: 0.0200 - val_accuracy: 0.5541\n",
      "Epoch 20/20\n",
      "253/253 [==============================] - 1s 2ms/step - loss: 0.0127 - accuracy: 0.5746 - val_loss: 0.0199 - val_accuracy: 0.5755\n"
     ]
    },
    {
     "data": {
      "text/plain": [
       "<keras.callbacks.History at 0x1e951ad16d0>"
      ]
     },
     "execution_count": 7,
     "metadata": {},
     "output_type": "execute_result"
    }
   ],
   "source": [
    "classifier_hidden_layers = [128,128]\n",
    "y_train_tem = y_train[:,:118]\n",
    "y_val_tem = y_val[:,:118]\n",
    "model.add(Dropout(0))\n",
    "for units in classifier_hidden_layers:\n",
    "    model.add(Dense(units, activation='relu', use_bias=False))\n",
    "    model.add(Dropout(0))\n",
    "model.add(Dense(OUTPUT_DIM, activation='sigmoid', use_bias=False))  # 'sigmoid' for multi-label classification\n",
    "model.compile(optimizer= 'adam', loss='binary_crossentropy', metrics=['accuracy'])\n",
    "model.fit(x_train, y_train_tem, validation_data=(x_val, y_val_tem), batch_size=64, epochs=20, verbose=1)"
   ]
  },
  {
   "cell_type": "code",
   "execution_count": 37,
   "id": "819f9a82",
   "metadata": {},
   "outputs": [
    {
     "name": "stdout",
     "output_type": "stream",
     "text": [
      "Model: \"sequential\"\n",
      "_________________________________________________________________\n",
      " Layer (type)                Output Shape              Param #   \n",
      "=================================================================\n",
      " dense (Dense)               (None, 256)               133120    \n",
      "                                                                 \n",
      " dense_1 (Dense)             (None, 128)               32768     \n",
      "                                                                 \n",
      " dense_2 (Dense)             (None, 64)                8192      \n",
      "                                                                 \n",
      " dropout (Dropout)           (None, 64)                0         \n",
      "                                                                 \n",
      " dense_6 (Dense)             (None, 128)               8192      \n",
      "                                                                 \n",
      " dropout_1 (Dropout)         (None, 128)               0         \n",
      "                                                                 \n",
      " dense_7 (Dense)             (None, 128)               16384     \n",
      "                                                                 \n",
      " dropout_2 (Dropout)         (None, 128)               0         \n",
      "                                                                 \n",
      " dense_8 (Dense)             (None, 118)               15104     \n",
      "                                                                 \n",
      "=================================================================\n",
      "Total params: 213,760\n",
      "Trainable params: 213,760\n",
      "Non-trainable params: 0\n",
      "_________________________________________________________________\n"
     ]
    }
   ],
   "source": [
    "model.summary()"
   ]
  },
  {
   "cell_type": "code",
   "execution_count": 8,
   "id": "c6dbffc6",
   "metadata": {},
   "outputs": [
    {
     "name": "stdout",
     "output_type": "stream",
     "text": [
      "63/63 [==============================] - 0s 903us/step\n"
     ]
    },
    {
     "data": {
      "text/plain": [
       "(0.9954841946813848,\n",
       " 0.9909683893627697,\n",
       " 0.6457601605619668,\n",
       " 0.6422478675363773)"
      ]
     },
     "execution_count": 8,
     "metadata": {},
     "output_type": "execute_result"
    }
   ],
   "source": [
    "preds = model.predict(x_test, batch_size=32)\n",
    "b_results = np.equal(np.argmax(y_test[:,:3], axis=1), np.argmax(preds[:,:3], axis=1)).astype(int)\n",
    "f_results = np.equal(np.argmax(y_test[:,3:8], axis=1), np.argmax(preds[:,3:8], axis=1)).astype(int)\n",
    "r_results = np.equal(np.argmax(y_test[:,8:118], axis=1), np.argmax(preds[:,8:118], axis=1)).astype(int)\n",
    "b_acc = b_results.mean()\n",
    "f_acc = f_results.mean()\n",
    "r_acc = r_results.mean()\n",
    "acc = (b_results*f_results*r_results).mean()\n",
    "b_acc,f_acc,r_acc,acc"
   ]
  },
  {
   "cell_type": "code",
   "execution_count": 9,
   "id": "7af30afe",
   "metadata": {},
   "outputs": [
    {
     "data": {
      "text/plain": [
       "(array([[6.0824177e-06, 9.9240905e-01, 7.6874079e-07],\n",
       "        [2.1692865e-04, 3.6515966e-01, 1.5080765e-04],\n",
       "        [2.0748976e-15, 1.0000000e+00, 9.0971058e-05],\n",
       "        ...,\n",
       "        [4.1388871e-12, 4.2755353e-19, 1.0000000e+00],\n",
       "        [5.7739535e-11, 2.6008790e-21, 1.0000000e+00],\n",
       "        [6.8321668e-07, 9.9999386e-01, 3.8508688e-08]], dtype=float32),\n",
       " array([[1.2200667e-12, 2.8531115e-08, 9.9999118e-01, 4.8195259e-05,\n",
       "         3.7412080e-11],\n",
       "        [4.3870876e-09, 3.9372505e-09, 1.0000000e+00, 2.0650984e-11,\n",
       "         4.9720210e-04],\n",
       "        [8.2450269e-10, 1.9370773e-08, 9.9988216e-01, 1.6161532e-12,\n",
       "         1.4673433e-11],\n",
       "        ...,\n",
       "        [1.3590647e-08, 1.0000000e+00, 4.1364659e-15, 2.3893831e-10,\n",
       "         4.8825788e-09],\n",
       "        [1.2691719e-06, 1.0000000e+00, 7.3330654e-11, 1.7981478e-16,\n",
       "         1.7692686e-11],\n",
       "        [6.3991803e-09, 2.2158546e-13, 7.0423549e-11, 1.0000000e+00,\n",
       "         7.1523214e-09]], dtype=float32),\n",
       " (1993, 3),\n",
       " (1993, 5),\n",
       " array([[2.7405160e-06, 7.1436175e-06, 3.5912651e-04, ..., 4.0619272e-14,\n",
       "         1.1578557e-12, 1.4727786e-13],\n",
       "        [1.9356820e-11, 1.0597723e-11, 6.1957529e-11, ..., 1.0649622e-10,\n",
       "         1.1748043e-09, 1.2078436e-12],\n",
       "        [4.1405150e-05, 1.1166463e-09, 3.7626800e-13, ..., 3.3189108e-11,\n",
       "         6.0310707e-15, 4.9781216e-12],\n",
       "        ...,\n",
       "        [3.5770108e-07, 4.7977036e-09, 4.5635090e-10, ..., 1.0419374e-05,\n",
       "         6.4261554e-11, 1.7597125e-07],\n",
       "        [2.4120848e-11, 2.8878070e-11, 1.2314952e-15, ..., 5.0464610e-14,\n",
       "         2.4348866e-15, 2.6497766e-16],\n",
       "        [9.1653355e-06, 9.9973121e-08, 3.3978303e-11, ..., 1.4122380e-17,\n",
       "         7.5095732e-14, 2.6572144e-10]], dtype=float32),\n",
       " (1993, 110),\n",
       " array([-7533.8962, -7516.4745, -7457.2421, ..., -7363.159 , -7331.4638,\n",
       "        -7516.8415]),\n",
       " array([4864939.2583, 4864844.5972, 4864853.9303, ..., 4864768.4717,\n",
       "        4864768.5137, 4864889.291 ]))"
      ]
     },
     "execution_count": 9,
     "metadata": {},
     "output_type": "execute_result"
    }
   ],
   "source": [
    "x_test_utm = np.asarray(y_test[:,-2])\n",
    "y_test_utm = np.asarray(y_test[:,-1])\n",
    "blds = preds[:,:3]\n",
    "flrs = preds[:,3:8]\n",
    "rfps = preds[:,8:118]\n",
    "m = np.logical_and(b_results, f_results)  # mask index array for correct location of building and floor\n",
    "mask = np.logical_and(m,r_results)\n",
    "# x_test_utm = x_test_utm[mask]\n",
    "# y_test_utm = y_test_utm[mask]\n",
    "# blds = blds[mask]\n",
    "# flrs = flrs[mask]\n",
    "# print(len(r_results)) #2048\n",
    "# print(np.sum(r_results == 0)) #704\n",
    "# blds = (preds[mask])[:, :3]\n",
    "# flrs = (preds[mask])[:, 3:8]\n",
    "# rfps = (preds[mask])[:, 8:118]\n",
    "blds,flrs,blds.shape,flrs.shape,rfps,rfps.shape,x_test_utm,y_test_utm"
   ]
  },
  {
   "cell_type": "code",
   "execution_count": 10,
   "id": "901f041a",
   "metadata": {},
   "outputs": [
    {
     "data": {
      "text/plain": [
       "(1993,\n",
       " array([[0, 1, 0],\n",
       "        [0, 1, 0],\n",
       "        [0, 1, 0],\n",
       "        ...,\n",
       "        [0, 0, 1],\n",
       "        [0, 0, 1],\n",
       "        [0, 1, 0]]),\n",
       " array([[0, 0, 1, 0, 0],\n",
       "        [0, 0, 1, 0, 0],\n",
       "        [0, 0, 1, 0, 0],\n",
       "        ...,\n",
       "        [0, 1, 0, 0, 0],\n",
       "        [0, 1, 0, 0, 0],\n",
       "        [0, 0, 0, 1, 0]]),\n",
       " (1993, 3),\n",
       " (1993, 5),\n",
       " array([0, 1, 0]))"
      ]
     },
     "execution_count": 10,
     "metadata": {},
     "output_type": "execute_result"
    }
   ],
   "source": [
    "n_success = len(blds)  # number of correct building and floor location\n",
    "blds = np.greater_equal(blds, np.tile(np.amax(blds, axis=1).reshape(n_success, 1), (1, 3))).astype(\n",
    "        int)  # set maximum column to 1 and others to 0 (row-wise)\n",
    "flrs = np.greater_equal(flrs, np.tile(np.amax(flrs, axis=1).reshape(n_success, 1), (1, 5))).astype(int)\n",
    "n_success,blds,flrs,blds.shape,flrs.shape,blds[1]"
   ]
  },
  {
   "cell_type": "code",
   "execution_count": 34,
   "id": "77afdfbf",
   "metadata": {},
   "outputs": [
    {
     "data": {
      "text/plain": [
       "(array([[11],\n",
       "        [67],\n",
       "        [49],\n",
       "        ...,\n",
       "        [86],\n",
       "        [86],\n",
       "        [18]], dtype=int64),\n",
       " array([11], dtype=int64),\n",
       " (1993, 1))"
      ]
     },
     "execution_count": 34,
     "metadata": {},
     "output_type": "execute_result"
    }
   ],
   "source": [
    "import math\n",
    "n_loc_failure = 0\n",
    "sum_pos_err = 0.0\n",
    "sum_pos_err_weighted = 0.0\n",
    "idxs = np.argpartition(rfps, -1)[:, -1:]  # (unsorted) indexes of up to N nearest neighbors\n",
    "idxs,idxs[0],idxs.shape"
   ]
  },
  {
   "cell_type": "code",
   "execution_count": 36,
   "id": "6f034b26",
   "metadata": {},
   "outputs": [
    {
     "data": {
      "text/plain": [
       "(3.899931278530471, 3.8999312785443765, 0.004515805318615153, 9)"
      ]
     },
     "execution_count": 36,
     "metadata": {},
     "output_type": "execute_result"
    }
   ],
   "source": [
    "for i in range(n_success):\n",
    "    xs = []\n",
    "    ys = []\n",
    "    ws = []\n",
    "    for j in idxs[i]:\n",
    "        rfp = np.zeros(110)\n",
    "        rfp[j] = 1\n",
    "        rows = np.where(\n",
    "            (train_labels[:,:118] == np.concatenate((blds[i], flrs[i], rfp))).all(axis=1))  # tuple of row indexes\n",
    "        if rows[0].size > 0:\n",
    "            xs.append(train_df.iloc[rows[0][0], 520])  # LONGITUDE\n",
    "            ys.append(train_df.iloc[rows[0][0], 521])  # LATITUDE\n",
    "            ws.append(rfps[i][j])\n",
    "        else:\n",
    "            n_loc_failure += 1\n",
    "        \n",
    "    if len(xs) > 0:\n",
    "        sum_pos_err += math.sqrt((np.mean(xs) - x_test_utm[i]) ** 2 + (np.mean(ys) - y_test_utm[i]) ** 2)\n",
    "        sum_pos_err_weighted += math.sqrt(\n",
    "                (np.average(xs, weights=ws) - x_test_utm[i]) ** 2 + (np.average(ys, weights=ws) - y_test_utm[i]) ** 2)\n",
    "        xs.clear()\n",
    "mean_pos_err = sum_pos_err / (n_success - n_loc_failure)\n",
    "mean_pos_err_weighted = sum_pos_err_weighted / (n_success - n_loc_failure)\n",
    "loc_failure = n_loc_failure / n_success  # rate of location estimation failure given that building and floor are correctly located\n",
    "mean_pos_err,mean_pos_err_weighted,loc_failure,n_loc_failure"
   ]
  },
  {
   "cell_type": "code",
   "execution_count": 13,
   "id": "c5a3b56f",
   "metadata": {},
   "outputs": [
    {
     "data": {
      "text/plain": [
       "(array([0., 0., 0., 0., 0., 0., 0., 0., 0., 0., 0., 0., 0., 0., 0., 0., 0.,\n",
       "        0., 0., 0., 0., 0., 0., 0., 0., 1., 0., 0., 0., 0., 0., 0., 0., 0.,\n",
       "        0., 0., 0., 0., 0., 0., 0., 0., 0., 0., 0., 0., 0., 0., 0., 0., 0.,\n",
       "        0., 0., 0., 0., 0., 0., 0., 0., 0., 0., 0., 0., 0., 0., 0., 0., 0.,\n",
       "        0., 0., 0., 0., 0., 0., 0., 0., 0., 0., 0., 0., 0., 0., 0., 0., 0.,\n",
       "        0., 0., 0., 0., 0., 0., 0., 0., 0., 0., 0., 0., 0., 0., 0., 0., 0.,\n",
       "        0., 0., 0., 0., 0., 0., 0., 0.]),\n",
       " (array([  21,  133,  242,  352,  460,  567,  678,  789,  895, 1008],\n",
       "        dtype=int64),),\n",
       " 10,\n",
       " 21)"
      ]
     },
     "execution_count": 13,
     "metadata": {},
     "output_type": "execute_result"
    }
   ],
   "source": [
    "rfp = np.zeros(110)\n",
    "rfp[25] = 1\n",
    "rows = np.where(\n",
    "            (train_labels[:,:118] == np.concatenate((blds[0], flrs[0], rfp))).all(axis=1))\n",
    "rfp,rows,rows[0].size,rows[0][0]"
   ]
  }
 ],
 "metadata": {
  "kernelspec": {
   "display_name": "tensorflow",
   "language": "python",
   "name": "tensorflow"
  },
  "language_info": {
   "codemirror_mode": {
    "name": "ipython",
    "version": 3
   },
   "file_extension": ".py",
   "mimetype": "text/x-python",
   "name": "python",
   "nbconvert_exporter": "python",
   "pygments_lexer": "ipython3",
   "version": "3.9.12"
  }
 },
 "nbformat": 4,
 "nbformat_minor": 5
}
