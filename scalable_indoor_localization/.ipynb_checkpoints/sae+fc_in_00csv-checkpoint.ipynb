{
 "cells": [
  {
   "cell_type": "code",
   "execution_count": 2,
   "id": "fda4c624",
   "metadata": {},
   "outputs": [],
   "source": [
    "import tensorflow as tf\n",
    "import pandas as pd\n",
    "import numpy as np\n",
    "from sklearn.preprocessing import scale\n",
    "from keras.utils import to_categorical"
   ]
  },
  {
   "cell_type": "code",
   "execution_count": 3,
   "id": "0c20821f",
   "metadata": {},
   "outputs": [
    {
     "data": {
      "text/plain": [
       "(array([[-110, -110, -110, ..., -110, -110, -110],\n",
       "        [-110, -110, -110, ..., -110, -110, -110],\n",
       "        [-110, -110, -110, ..., -110, -110, -110],\n",
       "        ...,\n",
       "        [-110, -110, -110, ..., -110, -110, -110],\n",
       "        [-110, -110, -110, ..., -110, -110, -110],\n",
       "        [-110, -110, -110, ..., -110, -110, -110]], dtype=int64),\n",
       " array([ 0,  0,  0, ..., 53, 53, 53]),\n",
       " (1059, 119))"
      ]
     },
     "execution_count": 3,
     "metadata": {},
     "output_type": "execute_result"
    }
   ],
   "source": [
    "path = \"./UJIIndoorLoc/00_sorted.csv\"\n",
    "train_df = pd.read_csv(path,header=0)\n",
    "#删除列均值为-110的列\n",
    "a = train_df.mean()\n",
    "for i in train_df.columns[:520]:\n",
    "    if a[i]==-110:\n",
    "        del train_df[i]\n",
    "train_df[\"REF\"] = pd.factorize(train_df[\"REF\"])[0].astype(int)#将标签映射到顺序数字上\n",
    "labels = train_df.REF.values\n",
    "features = train_df.drop(columns=['TIMESTAMP','PHONEID','USERID','RELATIVEPOSITION',\n",
    "                                'SPACEID','BUILDINGID','FLOOR','LATITUDE','LONGITUDE',\n",
    "                                'BF','REF']).values\n",
    "features,labels,features.shape"
   ]
  },
  {
   "cell_type": "code",
   "execution_count": 4,
   "id": "3f55fff5",
   "metadata": {},
   "outputs": [],
   "source": [
    "#还可以加上一个pca，进行降维"
   ]
  },
  {
   "cell_type": "code",
   "execution_count": 5,
   "id": "86b71bea",
   "metadata": {},
   "outputs": [],
   "source": [
    "from sklearn.model_selection import train_test_split\n",
    "from sklearn.utils import shuffle\n",
    "X_train, X_test, Y_train, Y_test = train_test_split(features, \n",
    "                                                    labels, \n",
    "                                                    test_size=0.3,\n",
    "                                                    random_state= 150,\n",
    "                                                    #random_state：可以理解为随机数种子，主要是为了复现结果而设置\n",
    "                                                    stratify=labels)\n",
    "X_train,Y_train = shuffle(X_train, Y_train)"
   ]
  },
  {
   "cell_type": "code",
   "execution_count": 6,
   "id": "c14f8c94",
   "metadata": {},
   "outputs": [],
   "source": [
    "from sklearn.preprocessing import StandardScaler\n",
    "scale = StandardScaler().fit(X_train)\n",
    "X_train_transform = scale.transform(X_train)\n",
    "X_test_transform = scale.transform(X_test)\n",
    "Y_train_encoded = to_categorical(Y_train)\n",
    "Y_test_encoded = to_categorical(Y_test)"
   ]
  },
  {
   "cell_type": "markdown",
   "id": "52be5b0f",
   "metadata": {},
   "source": [
    "### 构建stack ae，（使用权重共享，降低参数量）暂时没有办法"
   ]
  },
  {
   "cell_type": "code",
   "execution_count": 8,
   "id": "2beaa6a9",
   "metadata": {},
   "outputs": [
    {
     "name": "stdout",
     "output_type": "stream",
     "text": [
      "Model: \"model\"\n",
      "_________________________________________________________________\n",
      " Layer (type)                Output Shape              Param #   \n",
      "=================================================================\n",
      " input_1 (InputLayer)        [(None, 119)]             0         \n",
      "                                                                 \n",
      " dense (Dense)               (None, 256)               30720     \n",
      "                                                                 \n",
      " dense_1 (Dense)             (None, 128)               32896     \n",
      "                                                                 \n",
      " dense_2 (Dense)             (None, 64)                8256      \n",
      "                                                                 \n",
      " dense_3 (Dense)             (None, 128)               8320      \n",
      "                                                                 \n",
      " dense_4 (Dense)             (None, 256)               33024     \n",
      "                                                                 \n",
      " dense_5 (Dense)             (None, 119)               30583     \n",
      "                                                                 \n",
      "=================================================================\n",
      "Total params: 143,799\n",
      "Trainable params: 143,799\n",
      "Non-trainable params: 0\n",
      "_________________________________________________________________\n"
     ]
    }
   ],
   "source": [
    "#functional API的使用\n",
    "#\n",
    "from keras.models import Model\n",
    "from keras.layers import Input, Dense\n",
    "from keras import backend as K\n",
    "K.clear_session()\n",
    "x = Input(shape=(119,))\n",
    "hidden1 = Dense(256,activation='relu')(x)\n",
    "hidden2 = Dense(128,activation='relu')(hidden1)\n",
    "hidden3 = Dense(64,activation='relu')(hidden2)\n",
    "hidden4 = Dense(128,activation='relu')(hidden3)\n",
    "hidden5 = Dense(256,activation='relu')(hidden4)\n",
    "output = Dense(119,activation=tf.keras.layers.LeakyReLU(alpha=0.3))(hidden5)\n",
    "model = Model(inputs=x,outputs=output)\n",
    "model.summary()"
   ]
  }
 ],
 "metadata": {
  "kernelspec": {
   "display_name": "tensorflow",
   "language": "python",
   "name": "tensorflow"
  },
  "language_info": {
   "codemirror_mode": {
    "name": "ipython",
    "version": 3
   },
   "file_extension": ".py",
   "mimetype": "text/x-python",
   "name": "python",
   "nbconvert_exporter": "python",
   "pygments_lexer": "ipython3",
   "version": "3.9.12"
  }
 },
 "nbformat": 4,
 "nbformat_minor": 5
}
