{
 "cells": [
  {
   "cell_type": "code",
   "execution_count": 1,
   "id": "4f18ad98",
   "metadata": {},
   "outputs": [],
   "source": [
    "import tensorflow as tf\n",
    "import pandas as pd\n",
    "import numpy as np\n",
    "from sklearn.preprocessing import scale"
   ]
  },
  {
   "cell_type": "code",
   "execution_count": 2,
   "id": "9a58106a",
   "metadata": {},
   "outputs": [],
   "source": [
    "path = './UJIIndoorLoc/trainingData2.csv'\n",
    "train_df = pd.read_csv(path,header=0)\n",
    "train_ap_features = scale(np.asarray(train_df.iloc[:,:520]).astype(float),axis = 1)\n",
    "train_df['REFPOINT'] = train_df.apply(lambda row: str(int(row['SPACEID'])) + str(int(row['RELATIVEPOSITION'])),\n",
    "                                  axis=1)"
   ]
  },
  {
   "cell_type": "code",
   "execution_count": 3,
   "id": "b28d0daa",
   "metadata": {},
   "outputs": [
    {
     "data": {
      "text/plain": [
       "213"
      ]
     },
     "execution_count": 3,
     "metadata": {},
     "output_type": "execute_result"
    }
   ],
   "source": [
    "# blds = np.unique(train_df[['BUILDINGID']]) ##映射Building和Floor到REFPOINT的方法,减少编码量\n",
    "# flrs = np.unique(train_df[['FLOOR']])\n",
    "# for bld in blds:\n",
    "#     for flr in flrs:\n",
    "#         cond = (train_df['BUILDINGID'] == bld) & (train_df['FLOOR'] == flr)\n",
    "#         _, idx = np.unique(train_df.loc[cond, 'REFPOINT'], return_inverse=True)  # refer to numpy.unique manual\n",
    "#         train_df.loc[cond, 'REFPOINT'] = idx\n",
    "train_labels = np.asarray(pd.get_dummies(train_df['REFPOINT']))\n",
    "# x_test_utm = (np.asarray(train_df['LONGITUDE'])).reshape(len(train_labels_ref),1)\n",
    "# y_test_utm = (np.asarray(train_df['LATITUDE'])).reshape(len(train_labels_ref),1)\n",
    "# train_labels = np.concatenate((train_labels_ref,x_test_utm,y_test_utm), axis=1)\n",
    "OUTPUT_DIM = train_labels.shape[1]\n",
    "# train_labels_ref,train_labels_ref.shape,train_labels,train_labels.shape,OUTPUT_DIM\n",
    "OUTPUT_DIM"
   ]
  },
  {
   "cell_type": "code",
   "execution_count": 17,
   "id": "79503c14",
   "metadata": {},
   "outputs": [
    {
     "name": "stdout",
     "output_type": "stream",
     "text": [
      "16194 训练数据\n",
      "1820 验证数据 \n",
      "1923 测试数据\n"
     ]
    },
    {
     "data": {
      "text/plain": [
       "array([[0, 0, 0, ..., 0, 0, 0],\n",
       "       [0, 0, 1, ..., 0, 0, 0],\n",
       "       [0, 0, 0, ..., 0, 0, 0],\n",
       "       ...,\n",
       "       [0, 0, 1, ..., 0, 0, 0],\n",
       "       [0, 0, 1, ..., 0, 0, 0],\n",
       "       [0, 0, 0, ..., 0, 0, 0]], dtype=uint8)"
      ]
     },
     "execution_count": 17,
     "metadata": {},
     "output_type": "execute_result"
    }
   ],
   "source": [
    "#划分数据集的方法，  train_test_split  ，不能同时划分标签\n",
    "# from sklearn.model_selection import train_test_split\n",
    "# train, test = train_test_split(train_ap_features, test_size=0.2)\n",
    "# train, val = train_test_split(train, test_size=0.2)\n",
    "train_test_split = np.random.rand(len(train_ap_features)) < 0.9\n",
    "x_train_val = train_ap_features[train_test_split]\n",
    "y_train_val = train_labels[train_test_split]\n",
    "x_test = train_ap_features[~train_test_split]\n",
    "y_test = train_labels[~train_test_split]\n",
    "\n",
    "train_val_split = np.random.rand(len(x_train_val)) < 0.9\n",
    "x_train = x_train_val[train_val_split]\n",
    "y_train = y_train_val[train_val_split]\n",
    "x_val = x_train_val[~train_val_split]\n",
    "y_val = y_train_val[~train_val_split]\n",
    "\n",
    "# x_train.shape,y_train.shape\n",
    "print(len(x_train), '训练数据')   #  训练数据 \n",
    "print(len(x_val), '验证数据 ')    #  验证数据 \n",
    "print(len(x_test), '测试数据')    #  测试数据"
   ]
  },
  {
   "cell_type": "markdown",
   "id": "b6c46fa6",
   "metadata": {},
   "source": [
    "### building sae"
   ]
  },
  {
   "cell_type": "code",
   "execution_count": 5,
   "id": "62ff8d71",
   "metadata": {},
   "outputs": [
    {
     "name": "stdout",
     "output_type": "stream",
     "text": [
      "Epoch 1/20\n",
      "254/254 [==============================] - 1s 2ms/step - loss: 0.4721\n",
      "Epoch 2/20\n",
      "254/254 [==============================] - 1s 2ms/step - loss: 0.3454\n",
      "Epoch 3/20\n",
      "254/254 [==============================] - 1s 2ms/step - loss: 0.3271\n",
      "Epoch 4/20\n",
      "254/254 [==============================] - 1s 2ms/step - loss: 0.3186\n",
      "Epoch 5/20\n",
      "254/254 [==============================] - 1s 2ms/step - loss: 0.3128\n",
      "Epoch 6/20\n",
      "254/254 [==============================] - 1s 2ms/step - loss: 0.3091\n",
      "Epoch 7/20\n",
      "254/254 [==============================] - 1s 2ms/step - loss: 0.3064\n",
      "Epoch 8/20\n",
      "254/254 [==============================] - 1s 2ms/step - loss: 0.3046\n",
      "Epoch 9/20\n",
      "254/254 [==============================] - 1s 2ms/step - loss: 0.3032\n",
      "Epoch 10/20\n",
      "254/254 [==============================] - 1s 2ms/step - loss: 0.3019\n",
      "Epoch 11/20\n",
      "254/254 [==============================] - 1s 2ms/step - loss: 0.3011\n",
      "Epoch 12/20\n",
      "254/254 [==============================] - 1s 2ms/step - loss: 0.3006\n",
      "Epoch 13/20\n",
      "254/254 [==============================] - 1s 2ms/step - loss: 0.3000\n",
      "Epoch 14/20\n",
      "254/254 [==============================] - 1s 2ms/step - loss: 0.2994\n",
      "Epoch 15/20\n",
      "254/254 [==============================] - 1s 2ms/step - loss: 0.2990\n",
      "Epoch 16/20\n",
      "254/254 [==============================] - 1s 2ms/step - loss: 0.2985\n",
      "Epoch 17/20\n",
      "254/254 [==============================] - 1s 2ms/step - loss: 0.2985\n",
      "Epoch 18/20\n",
      "254/254 [==============================] - 1s 2ms/step - loss: 0.2982\n",
      "Epoch 19/20\n",
      "254/254 [==============================] - 1s 2ms/step - loss: 0.2978\n",
      "Epoch 20/20\n",
      "254/254 [==============================] - 1s 2ms/step - loss: 0.2977\n"
     ]
    },
    {
     "data": {
      "text/plain": [
       "<keras.callbacks.History at 0x194983e3a00>"
      ]
     },
     "execution_count": 5,
     "metadata": {},
     "output_type": "execute_result"
    }
   ],
   "source": [
    "from keras.layers import Dense, Dropout\n",
    "from keras.models import Sequential\n",
    "model = Sequential()\n",
    "sae_hidden_layers= [256,128,64,128,256]\n",
    "model.add(Dense(sae_hidden_layers[0],input_dim=520,activation='relu',use_bias=False))\n",
    "for units in sae_hidden_layers[1:]:\n",
    "    model.add(Dense(units, activation='relu', use_bias=False))\n",
    "model.add(Dense(520, activation='relu', use_bias=False))\n",
    "model.compile(optimizer='adam', loss='mse')\n",
    "model.fit(x_train,x_train,batch_size=64,epochs=20,verbose=1)"
   ]
  },
  {
   "cell_type": "code",
   "execution_count": 6,
   "id": "92506786",
   "metadata": {},
   "outputs": [],
   "source": [
    "num_to_remove = (len(sae_hidden_layers) + 1) // 2\n",
    "for i in range(num_to_remove):\n",
    "    model.pop()"
   ]
  },
  {
   "cell_type": "code",
   "execution_count": 7,
   "id": "24ee9201",
   "metadata": {},
   "outputs": [
    {
     "name": "stdout",
     "output_type": "stream",
     "text": [
      "Model: \"sequential\"\n",
      "_________________________________________________________________\n",
      " Layer (type)                Output Shape              Param #   \n",
      "=================================================================\n",
      " dense (Dense)               (None, 256)               133120    \n",
      "                                                                 \n",
      " dense_1 (Dense)             (None, 128)               32768     \n",
      "                                                                 \n",
      " dense_2 (Dense)             (None, 64)                8192      \n",
      "                                                                 \n",
      "=================================================================\n",
      "Total params: 174,080\n",
      "Trainable params: 174,080\n",
      "Non-trainable params: 0\n",
      "_________________________________________________________________\n"
     ]
    }
   ],
   "source": [
    "model.summary()#记得加括号"
   ]
  },
  {
   "cell_type": "markdown",
   "id": "15d6a2f1",
   "metadata": {},
   "source": [
    "### build and train a complete model with the trained SAE encoder and a new classifier"
   ]
  },
  {
   "cell_type": "code",
   "execution_count": 18,
   "id": "34fa99d1",
   "metadata": {},
   "outputs": [
    {
     "name": "stdout",
     "output_type": "stream",
     "text": [
      "Epoch 1/20\n",
      "254/254 [==============================] - 1s 4ms/step - loss: 0.0772 - accuracy: 0.0184 - val_loss: 0.0262 - val_accuracy: 0.0335\n",
      "Epoch 2/20\n",
      "254/254 [==============================] - 1s 4ms/step - loss: 0.0258 - accuracy: 0.0337 - val_loss: 0.0238 - val_accuracy: 0.0451\n",
      "Epoch 3/20\n",
      "254/254 [==============================] - 1s 4ms/step - loss: 0.0232 - accuracy: 0.0625 - val_loss: 0.0209 - val_accuracy: 0.1110\n",
      "Epoch 4/20\n",
      "254/254 [==============================] - 1s 4ms/step - loss: 0.0202 - accuracy: 0.1279 - val_loss: 0.0181 - val_accuracy: 0.1901\n",
      "Epoch 5/20\n",
      "254/254 [==============================] - 1s 4ms/step - loss: 0.0179 - accuracy: 0.1982 - val_loss: 0.0162 - val_accuracy: 0.2610\n",
      "Epoch 6/20\n",
      "254/254 [==============================] - 1s 4ms/step - loss: 0.0161 - accuracy: 0.2691 - val_loss: 0.0151 - val_accuracy: 0.3115\n",
      "Epoch 7/20\n",
      "254/254 [==============================] - 1s 3ms/step - loss: 0.0145 - accuracy: 0.3409 - val_loss: 0.0136 - val_accuracy: 0.3775\n",
      "Epoch 8/20\n",
      "254/254 [==============================] - 1s 3ms/step - loss: 0.0131 - accuracy: 0.4123 - val_loss: 0.0129 - val_accuracy: 0.4159\n",
      "Epoch 9/20\n",
      "254/254 [==============================] - 1s 3ms/step - loss: 0.0121 - accuracy: 0.4568 - val_loss: 0.0115 - val_accuracy: 0.4868\n",
      "Epoch 10/20\n",
      "254/254 [==============================] - 1s 4ms/step - loss: 0.0108 - accuracy: 0.5301 - val_loss: 0.0114 - val_accuracy: 0.5071\n",
      "Epoch 11/20\n",
      "254/254 [==============================] - 1s 3ms/step - loss: 0.0099 - accuracy: 0.5772 - val_loss: 0.0106 - val_accuracy: 0.5522\n",
      "Epoch 12/20\n",
      "254/254 [==============================] - 1s 4ms/step - loss: 0.0092 - accuracy: 0.6158 - val_loss: 0.0107 - val_accuracy: 0.5604\n",
      "Epoch 13/20\n",
      "254/254 [==============================] - 1s 4ms/step - loss: 0.0086 - accuracy: 0.6499 - val_loss: 0.0099 - val_accuracy: 0.5951\n",
      "Epoch 14/20\n",
      "254/254 [==============================] - 1s 4ms/step - loss: 0.0078 - accuracy: 0.6850 - val_loss: 0.0098 - val_accuracy: 0.6093\n",
      "Epoch 15/20\n",
      "254/254 [==============================] - 1s 3ms/step - loss: 0.0074 - accuracy: 0.7033 - val_loss: 0.0095 - val_accuracy: 0.6181\n",
      "Epoch 16/20\n",
      "254/254 [==============================] - 1s 4ms/step - loss: 0.0069 - accuracy: 0.7284 - val_loss: 0.0096 - val_accuracy: 0.6258\n",
      "Epoch 17/20\n",
      "254/254 [==============================] - 1s 4ms/step - loss: 0.0066 - accuracy: 0.7432 - val_loss: 0.0090 - val_accuracy: 0.6511\n",
      "Epoch 18/20\n",
      "254/254 [==============================] - 1s 3ms/step - loss: 0.0064 - accuracy: 0.7484 - val_loss: 0.0096 - val_accuracy: 0.6308\n",
      "Epoch 19/20\n",
      "254/254 [==============================] - 1s 3ms/step - loss: 0.0061 - accuracy: 0.7664 - val_loss: 0.0090 - val_accuracy: 0.6571\n",
      "Epoch 20/20\n",
      "254/254 [==============================] - 1s 4ms/step - loss: 0.0055 - accuracy: 0.7861 - val_loss: 0.0101 - val_accuracy: 0.6412\n"
     ]
    },
    {
     "data": {
      "text/plain": [
       "<keras.callbacks.History at 0x19495dd43a0>"
      ]
     },
     "execution_count": 18,
     "metadata": {},
     "output_type": "execute_result"
    }
   ],
   "source": [
    "classifier_hidden_layers = [128,128]\n",
    "model.add(Dropout(0.1))\n",
    "for units in classifier_hidden_layers:\n",
    "    model.add(Dense(units, activation='relu', use_bias=False))\n",
    "    model.add(Dropout(0.1))\n",
    "model.add(Dense(OUTPUT_DIM, activation='sigmoid', use_bias=False))  # 'sigmoid' for multi-label classification\n",
    "model.compile(optimizer='adam', loss='binary_crossentropy', metrics=['accuracy'])\n",
    "model.fit(x_train, y_train, validation_data=(x_val, y_val), batch_size=64, epochs=20, verbose=1)   "
   ]
  },
  {
   "cell_type": "code",
   "execution_count": 19,
   "id": "5fffdf58",
   "metadata": {},
   "outputs": [
    {
     "name": "stdout",
     "output_type": "stream",
     "text": [
      "61/61 [==============================] - 0s 1ms/step\n"
     ]
    },
    {
     "data": {
      "text/plain": [
       "0.6510660426417056"
      ]
     },
     "execution_count": 19,
     "metadata": {},
     "output_type": "execute_result"
    }
   ],
   "source": [
    "preds = model.predict(x_test, batch_size=32)\n",
    "results = np.equal(np.argmax(y_test, axis=1), np.argmax(preds, axis=1)).astype(int)\n",
    "acc = results.mean()\n",
    "acc"
   ]
  },
  {
   "cell_type": "code",
   "execution_count": 20,
   "id": "7372f395",
   "metadata": {},
   "outputs": [
    {
     "name": "stdout",
     "output_type": "stream",
     "text": [
      "61/61 [==============================] - 0s 1ms/step - loss: 0.0096 - accuracy: 0.6511\n"
     ]
    },
    {
     "data": {
      "text/plain": [
       "(0.009556763805449009, 0.6510660648345947)"
      ]
     },
     "execution_count": 20,
     "metadata": {},
     "output_type": "execute_result"
    }
   ],
   "source": [
    "e_loss, e_acc = model.evaluate(x_test,y_test)\n",
    "e_loss,e_acc"
   ]
  },
  {
   "cell_type": "code",
   "execution_count": 21,
   "id": "831fc3af",
   "metadata": {},
   "outputs": [
    {
     "name": "stdout",
     "output_type": "stream",
     "text": [
      "Model: \"sequential\"\n",
      "_________________________________________________________________\n",
      " Layer (type)                Output Shape              Param #   \n",
      "=================================================================\n",
      " dense (Dense)               (None, 256)               133120    \n",
      "                                                                 \n",
      " dense_1 (Dense)             (None, 128)               32768     \n",
      "                                                                 \n",
      " dense_2 (Dense)             (None, 64)                8192      \n",
      "                                                                 \n",
      " dropout (Dropout)           (None, 64)                0         \n",
      "                                                                 \n",
      " dense_6 (Dense)             (None, 128)               8192      \n",
      "                                                                 \n",
      " dropout_1 (Dropout)         (None, 128)               0         \n",
      "                                                                 \n",
      " dense_7 (Dense)             (None, 128)               16384     \n",
      "                                                                 \n",
      " dropout_2 (Dropout)         (None, 128)               0         \n",
      "                                                                 \n",
      " dense_8 (Dense)             (None, 213)               27264     \n",
      "                                                                 \n",
      " dropout_3 (Dropout)         (None, 213)               0         \n",
      "                                                                 \n",
      " dense_9 (Dense)             (None, 128)               27264     \n",
      "                                                                 \n",
      " dropout_4 (Dropout)         (None, 128)               0         \n",
      "                                                                 \n",
      " dense_10 (Dense)            (None, 128)               16384     \n",
      "                                                                 \n",
      " dropout_5 (Dropout)         (None, 128)               0         \n",
      "                                                                 \n",
      " dense_11 (Dense)            (None, 213)               27264     \n",
      "                                                                 \n",
      "=================================================================\n",
      "Total params: 296,832\n",
      "Trainable params: 296,832\n",
      "Non-trainable params: 0\n",
      "_________________________________________________________________\n"
     ]
    }
   ],
   "source": [
    "model.summary()"
   ]
  },
  {
   "cell_type": "code",
   "execution_count": 11,
   "id": "6a1f5d93",
   "metadata": {},
   "outputs": [
    {
     "data": {
      "text/plain": [
       "array([ True, False, False, ..., False,  True,  True])"
      ]
     },
     "execution_count": 11,
     "metadata": {},
     "output_type": "execute_result"
    }
   ],
   "source": [
    "# mask = results.astype(bool)\n",
    "# mask"
   ]
  },
  {
   "cell_type": "code",
   "execution_count": 12,
   "id": "8214cbbd",
   "metadata": {},
   "outputs": [
    {
     "data": {
      "text/plain": [
       "(array([[8.92962717e-08, 4.41135606e-04, 1.76552117e-01, ...,\n",
       "         5.85920601e-09, 4.89989288e-13, 9.34913746e-09],\n",
       "        [2.76458479e-04, 5.62636118e-11, 3.31597109e-13, ...,\n",
       "         4.43858231e-12, 4.51149560e-07, 1.03370276e-05],\n",
       "        [2.42039743e-12, 4.58746484e-07, 2.23110952e-09, ...,\n",
       "         2.45913776e-04, 3.05888790e-07, 1.63069606e-04],\n",
       "        ...,\n",
       "        [5.40047768e-06, 3.99729694e-11, 5.71577857e-07, ...,\n",
       "         3.87069043e-09, 2.37506369e-12, 1.53328894e-09],\n",
       "        [1.10493119e-07, 1.20595265e-02, 9.44795012e-01, ...,\n",
       "         3.24483551e-08, 8.84842866e-09, 5.87115164e-06],\n",
       "        [9.57750328e-18, 2.87962234e-15, 8.66200244e-17, ...,\n",
       "         7.01730015e-13, 9.77298646e-13, 1.22221526e-14]], dtype=float32),\n",
       " (1282, 213))"
      ]
     },
     "execution_count": 12,
     "metadata": {},
     "output_type": "execute_result"
    }
   ],
   "source": [
    "# rfps = preds[mask]\n",
    "# rfps,rfps.shape"
   ]
  },
  {
   "cell_type": "code",
   "execution_count": 14,
   "id": "827a0303",
   "metadata": {},
   "outputs": [
    {
     "data": {
      "text/plain": [
       "(array([[0, 0, 0, ..., 0, 0, 0],\n",
       "        [0, 0, 0, ..., 0, 0, 0],\n",
       "        [0, 0, 0, ..., 0, 0, 0],\n",
       "        ...,\n",
       "        [0, 0, 0, ..., 0, 0, 0],\n",
       "        [0, 0, 1, ..., 0, 0, 0],\n",
       "        [0, 0, 0, ..., 0, 0, 0]]),\n",
       " (1282, 213))"
      ]
     },
     "execution_count": 14,
     "metadata": {},
     "output_type": "execute_result"
    }
   ],
   "source": [
    "# n_success = len(rfps)\n",
    "# rfps = np.greater_equal(rfps, np.tile(np.amax(rfps, axis=1).reshape(n_success, 1), (1, 213))).astype(\n",
    "#         int) # set maximum column to 1 and others to 0 (row-wise)\n",
    "# rfps,rfps.shape,"
   ]
  },
  {
   "cell_type": "code",
   "execution_count": 35,
   "id": "f1cc94c4",
   "metadata": {},
   "outputs": [
    {
     "data": {
      "text/plain": [
       "array([[58],\n",
       "       [ 3],\n",
       "       [71],\n",
       "       ...,\n",
       "       [ 1],\n",
       "       [66],\n",
       "       [86]], dtype=int64)"
      ]
     },
     "execution_count": 35,
     "metadata": {},
     "output_type": "execute_result"
    }
   ],
   "source": [
    "# import math\n",
    "# n_loc_failure = 0\n",
    "# sum_pos_err = 0.0\n",
    "# sum_pos_err_weighted = 0.0\n",
    "# idxs = np.argpartition(rfps, -1)[:, -1:]  # (unsorted) indexes of up to N nearest neighbors\n",
    "# idxs"
   ]
  },
  {
   "cell_type": "code",
   "execution_count": null,
   "id": "bcd3d253",
   "metadata": {},
   "outputs": [],
   "source": []
  }
 ],
 "metadata": {
  "kernelspec": {
   "display_name": "Python 3 (ipykernel)",
   "language": "python",
   "name": "python3"
  },
  "language_info": {
   "codemirror_mode": {
    "name": "ipython",
    "version": 3
   },
   "file_extension": ".py",
   "mimetype": "text/x-python",
   "name": "python",
   "nbconvert_exporter": "python",
   "pygments_lexer": "ipython3",
   "version": "3.9.12"
  }
 },
 "nbformat": 4,
 "nbformat_minor": 5
}
