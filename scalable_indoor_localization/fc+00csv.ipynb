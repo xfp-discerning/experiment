{
 "cells": [
  {
   "cell_type": "code",
   "execution_count": 1,
   "id": "43aad9d5",
   "metadata": {},
   "outputs": [],
   "source": [
    "import tensorflow as tf\n",
    "import pandas as pd\n",
    "import numpy as np\n",
    "from sklearn.preprocessing import scale"
   ]
  },
  {
   "cell_type": "code",
   "execution_count": 5,
   "id": "5c7e0f78",
   "metadata": {},
   "outputs": [],
   "source": [
    "path = \"./UJIIndoorLoc/00_sorted.csv\"\n",
    "train_df = pd.read_csv(path,header=0)\n",
    "features = scale(np.asarray(train_df.iloc[:,:520]).astype(float),axis = 1)\n",
    "labels = np.asarray(pd.get_dummies(train_df['REF']))"
   ]
  },
  {
   "cell_type": "code",
   "execution_count": 9,
   "id": "77197007",
   "metadata": {},
   "outputs": [],
   "source": [
    "from sklearn.model_selection import train_test_split\n",
    "X_tr, X_test, Y_tr, Y_test = train_test_split(features, \n",
    "                                                    labels, \n",
    "                                                    test_size=0.2,\n",
    "                                                    random_state= 150,\n",
    "                                                    #random_state：可以理解为随机数种子，主要是为了复现结果而设置\n",
    "                                                    stratify=labels)#stratify保证测试集中，所有类别的齐全"
   ]
  },
  {
   "cell_type": "code",
   "execution_count": 11,
   "id": "c3019e04",
   "metadata": {},
   "outputs": [
    {
     "name": "stdout",
     "output_type": "stream",
     "text": [
      "Epoch 1/50\n",
      "22/22 [==============================] - 1s 22ms/step - loss: 0.2281 - accuracy: 0.0251 - val_loss: 0.0965 - val_accuracy: 0.1000\n",
      "Epoch 2/50\n",
      "22/22 [==============================] - 0s 15ms/step - loss: 0.0858 - accuracy: 0.1241 - val_loss: 0.0764 - val_accuracy: 0.1706\n",
      "Epoch 3/50\n",
      "22/22 [==============================] - 0s 17ms/step - loss: 0.0700 - accuracy: 0.2157 - val_loss: 0.0672 - val_accuracy: 0.2353\n",
      "Epoch 4/50\n",
      "22/22 [==============================] - 0s 17ms/step - loss: 0.0597 - accuracy: 0.3191 - val_loss: 0.0600 - val_accuracy: 0.3588\n",
      "Epoch 5/50\n",
      "22/22 [==============================] - 0s 14ms/step - loss: 0.0513 - accuracy: 0.4225 - val_loss: 0.0528 - val_accuracy: 0.4353\n",
      "Epoch 6/50\n",
      "22/22 [==============================] - 0s 14ms/step - loss: 0.0463 - accuracy: 0.4549 - val_loss: 0.0468 - val_accuracy: 0.4412\n",
      "Epoch 7/50\n",
      "22/22 [==============================] - 0s 14ms/step - loss: 0.0411 - accuracy: 0.5303 - val_loss: 0.0426 - val_accuracy: 0.5000\n",
      "Epoch 8/50\n",
      "22/22 [==============================] - 0s 14ms/step - loss: 0.0359 - accuracy: 0.6041 - val_loss: 0.0396 - val_accuracy: 0.5529\n",
      "Epoch 9/50\n",
      "22/22 [==============================] - 0s 14ms/step - loss: 0.0328 - accuracy: 0.6721 - val_loss: 0.0402 - val_accuracy: 0.5353\n",
      "Epoch 10/50\n",
      "22/22 [==============================] - 0s 18ms/step - loss: 0.0309 - accuracy: 0.6883 - val_loss: 0.0369 - val_accuracy: 0.5882\n",
      "Epoch 11/50\n",
      "22/22 [==============================] - 0s 14ms/step - loss: 0.0274 - accuracy: 0.7297 - val_loss: 0.0397 - val_accuracy: 0.5941\n",
      "Epoch 12/50\n",
      "22/22 [==============================] - 0s 15ms/step - loss: 0.0282 - accuracy: 0.6987 - val_loss: 0.0339 - val_accuracy: 0.6235\n",
      "Epoch 13/50\n",
      "22/22 [==============================] - 0s 16ms/step - loss: 0.0236 - accuracy: 0.7843 - val_loss: 0.0321 - val_accuracy: 0.6471\n",
      "Epoch 14/50\n",
      "22/22 [==============================] - 0s 18ms/step - loss: 0.0227 - accuracy: 0.7843 - val_loss: 0.0340 - val_accuracy: 0.6353\n",
      "Epoch 15/50\n",
      "22/22 [==============================] - 0s 17ms/step - loss: 0.0203 - accuracy: 0.8050 - val_loss: 0.0334 - val_accuracy: 0.6471\n",
      "Epoch 16/50\n",
      "22/22 [==============================] - 0s 17ms/step - loss: 0.0182 - accuracy: 0.8050 - val_loss: 0.0320 - val_accuracy: 0.6529\n",
      "Epoch 17/50\n",
      "22/22 [==============================] - 0s 16ms/step - loss: 0.0172 - accuracy: 0.8405 - val_loss: 0.0303 - val_accuracy: 0.6824\n",
      "Epoch 18/50\n",
      "22/22 [==============================] - 0s 16ms/step - loss: 0.0144 - accuracy: 0.8715 - val_loss: 0.0345 - val_accuracy: 0.6529\n",
      "Epoch 19/50\n",
      "22/22 [==============================] - 0s 15ms/step - loss: 0.0154 - accuracy: 0.8597 - val_loss: 0.0312 - val_accuracy: 0.6882\n",
      "Epoch 20/50\n",
      "22/22 [==============================] - 0s 14ms/step - loss: 0.0144 - accuracy: 0.8612 - val_loss: 0.0298 - val_accuracy: 0.7059\n",
      "Epoch 21/50\n",
      "22/22 [==============================] - 0s 16ms/step - loss: 0.0141 - accuracy: 0.8715 - val_loss: 0.0319 - val_accuracy: 0.7000\n",
      "Epoch 22/50\n",
      "22/22 [==============================] - 0s 13ms/step - loss: 0.0125 - accuracy: 0.8818 - val_loss: 0.0328 - val_accuracy: 0.6882\n",
      "Epoch 23/50\n",
      "22/22 [==============================] - 0s 13ms/step - loss: 0.0125 - accuracy: 0.8907 - val_loss: 0.0334 - val_accuracy: 0.6824\n",
      "Epoch 24/50\n",
      "22/22 [==============================] - 0s 17ms/step - loss: 0.0144 - accuracy: 0.8641 - val_loss: 0.0325 - val_accuracy: 0.6824\n",
      "Epoch 25/50\n",
      "22/22 [==============================] - 0s 14ms/step - loss: 0.0123 - accuracy: 0.8922 - val_loss: 0.0344 - val_accuracy: 0.6941\n",
      "Epoch 26/50\n",
      "22/22 [==============================] - 0s 14ms/step - loss: 0.0118 - accuracy: 0.8877 - val_loss: 0.0328 - val_accuracy: 0.7059\n",
      "Epoch 27/50\n",
      "22/22 [==============================] - 0s 14ms/step - loss: 0.0097 - accuracy: 0.8951 - val_loss: 0.0367 - val_accuracy: 0.6706\n",
      "Epoch 28/50\n",
      "22/22 [==============================] - 0s 13ms/step - loss: 0.0117 - accuracy: 0.8951 - val_loss: 0.0373 - val_accuracy: 0.7000\n",
      "Epoch 29/50\n",
      "22/22 [==============================] - 0s 12ms/step - loss: 0.0104 - accuracy: 0.8966 - val_loss: 0.0321 - val_accuracy: 0.7412\n",
      "Epoch 30/50\n",
      "22/22 [==============================] - 0s 14ms/step - loss: 0.0123 - accuracy: 0.8951 - val_loss: 0.0319 - val_accuracy: 0.6706\n",
      "Epoch 31/50\n",
      "22/22 [==============================] - 0s 12ms/step - loss: 0.0094 - accuracy: 0.9247 - val_loss: 0.0324 - val_accuracy: 0.6941\n",
      "Epoch 32/50\n",
      "22/22 [==============================] - 0s 13ms/step - loss: 0.0090 - accuracy: 0.9321 - val_loss: 0.0322 - val_accuracy: 0.6941\n",
      "Epoch 33/50\n",
      "22/22 [==============================] - 0s 13ms/step - loss: 0.0078 - accuracy: 0.9350 - val_loss: 0.0376 - val_accuracy: 0.6706\n",
      "Epoch 34/50\n",
      "22/22 [==============================] - 0s 13ms/step - loss: 0.0093 - accuracy: 0.9202 - val_loss: 0.0342 - val_accuracy: 0.7118\n",
      "Epoch 35/50\n",
      "22/22 [==============================] - 0s 13ms/step - loss: 0.0079 - accuracy: 0.9321 - val_loss: 0.0358 - val_accuracy: 0.7000\n",
      "Epoch 36/50\n",
      "22/22 [==============================] - 0s 13ms/step - loss: 0.0064 - accuracy: 0.9380 - val_loss: 0.0341 - val_accuracy: 0.7294\n",
      "Epoch 37/50\n",
      "22/22 [==============================] - 0s 15ms/step - loss: 0.0064 - accuracy: 0.9439 - val_loss: 0.0375 - val_accuracy: 0.6882\n",
      "Epoch 38/50\n",
      "22/22 [==============================] - 0s 17ms/step - loss: 0.0054 - accuracy: 0.9586 - val_loss: 0.0353 - val_accuracy: 0.7059\n",
      "Epoch 39/50\n",
      "22/22 [==============================] - 0s 16ms/step - loss: 0.0060 - accuracy: 0.9439 - val_loss: 0.0365 - val_accuracy: 0.6941\n",
      "Epoch 40/50\n",
      "22/22 [==============================] - 0s 18ms/step - loss: 0.0053 - accuracy: 0.9513 - val_loss: 0.0371 - val_accuracy: 0.7000\n",
      "Epoch 41/50\n",
      "22/22 [==============================] - 0s 17ms/step - loss: 0.0074 - accuracy: 0.9394 - val_loss: 0.0378 - val_accuracy: 0.6882\n",
      "Epoch 42/50\n",
      "22/22 [==============================] - 0s 14ms/step - loss: 0.0052 - accuracy: 0.9586 - val_loss: 0.0351 - val_accuracy: 0.7412\n",
      "Epoch 43/50\n",
      "22/22 [==============================] - 0s 17ms/step - loss: 0.0060 - accuracy: 0.9586 - val_loss: 0.0436 - val_accuracy: 0.6882\n",
      "Epoch 44/50\n",
      "22/22 [==============================] - 0s 15ms/step - loss: 0.0051 - accuracy: 0.9586 - val_loss: 0.0385 - val_accuracy: 0.7059\n",
      "Epoch 45/50\n",
      "22/22 [==============================] - 0s 15ms/step - loss: 0.0056 - accuracy: 0.9483 - val_loss: 0.0476 - val_accuracy: 0.6882\n",
      "Epoch 46/50\n",
      "22/22 [==============================] - 0s 16ms/step - loss: 0.0086 - accuracy: 0.9291 - val_loss: 0.0377 - val_accuracy: 0.7000\n",
      "Epoch 47/50\n",
      "22/22 [==============================] - 0s 14ms/step - loss: 0.0059 - accuracy: 0.9527 - val_loss: 0.0382 - val_accuracy: 0.7353\n",
      "Epoch 48/50\n",
      "22/22 [==============================] - 0s 14ms/step - loss: 0.0067 - accuracy: 0.9586 - val_loss: 0.0369 - val_accuracy: 0.7176\n",
      "Epoch 49/50\n",
      "22/22 [==============================] - 0s 14ms/step - loss: 0.0047 - accuracy: 0.9690 - val_loss: 0.0376 - val_accuracy: 0.7353\n",
      "Epoch 50/50\n",
      "22/22 [==============================] - 0s 16ms/step - loss: 0.0044 - accuracy: 0.9690 - val_loss: 0.0416 - val_accuracy: 0.6941\n"
     ]
    },
    {
     "data": {
      "text/plain": [
       "<keras.callbacks.History at 0x23c92082790>"
      ]
     },
     "execution_count": 11,
     "metadata": {},
     "output_type": "execute_result"
    }
   ],
   "source": [
    "from keras.layers import Dense, Dropout\n",
    "from keras.models import Sequential\n",
    "model = Sequential()\n",
    "sae_hidden_layers= [1024,512,256,128]\n",
    "model.add(Dense(sae_hidden_layers[0],input_dim=520,activation='relu',use_bias=False))\n",
    "for units in sae_hidden_layers[1:]:\n",
    "    model.add(Dense(units, activation='relu', use_bias=False))\n",
    "model.add(Dense(54, activation='sigmoid', use_bias=False))\n",
    "model.compile(optimizer='adam', loss='binary_crossentropy', metrics=['accuracy'])\n",
    "model.fit(X_tr, Y_tr, validation_split=0.2, batch_size=32, epochs=50, verbose=1)"
   ]
  },
  {
   "cell_type": "code",
   "execution_count": 13,
   "id": "e0ad86d0",
   "metadata": {},
   "outputs": [
    {
     "name": "stdout",
     "output_type": "stream",
     "text": [
      "7/7 [==============================] - 0s 5ms/step\n"
     ]
    },
    {
     "data": {
      "text/plain": [
       "0.6981132075471698"
      ]
     },
     "execution_count": 13,
     "metadata": {},
     "output_type": "execute_result"
    }
   ],
   "source": [
    "preds = model.predict(X_test, batch_size=32)\n",
    "results = np.equal(np.argmax(Y_test, axis=1), np.argmax(preds, axis=1)).astype(int)\n",
    "acc = results.mean()\n",
    "acc"
   ]
  }
 ],
 "metadata": {
  "kernelspec": {
   "display_name": "tensorflow",
   "language": "python",
   "name": "tensorflow"
  },
  "language_info": {
   "codemirror_mode": {
    "name": "ipython",
    "version": 3
   },
   "file_extension": ".py",
   "mimetype": "text/x-python",
   "name": "python",
   "nbconvert_exporter": "python",
   "pygments_lexer": "ipython3",
   "version": "3.9.12"
  }
 },
 "nbformat": 4,
 "nbformat_minor": 5
}
