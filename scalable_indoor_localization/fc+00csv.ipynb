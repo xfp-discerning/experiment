{
 "cells": [
  {
   "cell_type": "code",
   "execution_count": 1,
   "id": "43aad9d5",
   "metadata": {},
   "outputs": [],
   "source": [
    "import tensorflow as tf\n",
    "import pandas as pd\n",
    "import numpy as np\n",
    "from sklearn.preprocessing import scale"
   ]
  },
  {
   "cell_type": "code",
   "execution_count": 2,
   "id": "5c7e0f78",
   "metadata": {},
   "outputs": [],
   "source": [
    "path = \"./UJIIndoorLoc/00_sorted.csv\"\n",
    "train_df = pd.read_csv(path,header=0)\n",
    "features = scale(np.asarray(train_df.iloc[:,:520]).astype(float),axis = 1)\n",
    "labels = np.asarray(pd.get_dummies(train_df['REF']))"
   ]
  },
  {
   "cell_type": "code",
   "execution_count": 3,
   "id": "77197007",
   "metadata": {},
   "outputs": [],
   "source": [
    "from sklearn.model_selection import train_test_split\n",
    "X_tr, X_test, Y_tr, Y_test = train_test_split(features, \n",
    "                                                    labels, \n",
    "                                                    test_size=0.2,\n",
    "                                                    random_state= 150,\n",
    "                                                    #random_state：可以理解为随机数种子，主要是为了复现结果而设置\n",
    "                                                    stratify=labels)#stratify保证测试集中，所有类别的齐全"
   ]
  },
  {
   "cell_type": "code",
   "execution_count": 4,
   "id": "c3019e04",
   "metadata": {},
   "outputs": [
    {
     "name": "stdout",
     "output_type": "stream",
     "text": [
      "Epoch 1/50\n",
      "22/22 [==============================] - 1s 33ms/step - loss: 3.4299 - accuracy: 0.1433 - val_loss: 2.8324 - val_accuracy: 0.2118\n",
      "Epoch 2/50\n",
      "22/22 [==============================] - 0s 20ms/step - loss: 2.2479 - accuracy: 0.3087 - val_loss: 2.0975 - val_accuracy: 0.3118\n",
      "Epoch 3/50\n",
      "22/22 [==============================] - 0s 22ms/step - loss: 1.7466 - accuracy: 0.4239 - val_loss: 1.7696 - val_accuracy: 0.4471\n",
      "Epoch 4/50\n",
      "22/22 [==============================] - 0s 17ms/step - loss: 1.3972 - accuracy: 0.5495 - val_loss: 1.4429 - val_accuracy: 0.5529\n",
      "Epoch 5/50\n",
      "22/22 [==============================] - 0s 18ms/step - loss: 1.1080 - accuracy: 0.6145 - val_loss: 1.2603 - val_accuracy: 0.5824\n",
      "Epoch 6/50\n",
      "22/22 [==============================] - 0s 19ms/step - loss: 1.0061 - accuracy: 0.6558 - val_loss: 1.3235 - val_accuracy: 0.5412\n",
      "Epoch 7/50\n",
      "22/22 [==============================] - 0s 18ms/step - loss: 0.8781 - accuracy: 0.6928 - val_loss: 1.2807 - val_accuracy: 0.6176\n",
      "Epoch 8/50\n",
      "22/22 [==============================] - 0s 19ms/step - loss: 0.7200 - accuracy: 0.7518 - val_loss: 1.1971 - val_accuracy: 0.5941\n",
      "Epoch 9/50\n",
      "22/22 [==============================] - 0s 18ms/step - loss: 0.6497 - accuracy: 0.7858 - val_loss: 1.2124 - val_accuracy: 0.6471\n",
      "Epoch 10/50\n",
      "22/22 [==============================] - 0s 19ms/step - loss: 0.6158 - accuracy: 0.7888 - val_loss: 1.3470 - val_accuracy: 0.6235\n",
      "Epoch 11/50\n",
      "22/22 [==============================] - 1s 26ms/step - loss: 0.5139 - accuracy: 0.8287 - val_loss: 1.1642 - val_accuracy: 0.6588\n",
      "Epoch 12/50\n",
      "22/22 [==============================] - 0s 19ms/step - loss: 0.5236 - accuracy: 0.8375 - val_loss: 1.1385 - val_accuracy: 0.6588\n",
      "Epoch 13/50\n",
      "22/22 [==============================] - 0s 18ms/step - loss: 0.4339 - accuracy: 0.8390 - val_loss: 1.2130 - val_accuracy: 0.6529\n",
      "Epoch 14/50\n",
      "22/22 [==============================] - 0s 19ms/step - loss: 0.6014 - accuracy: 0.8050 - val_loss: 1.0898 - val_accuracy: 0.6765\n",
      "Epoch 15/50\n",
      "22/22 [==============================] - 0s 18ms/step - loss: 0.4586 - accuracy: 0.8552 - val_loss: 1.1576 - val_accuracy: 0.6529\n",
      "Epoch 16/50\n",
      "22/22 [==============================] - 0s 19ms/step - loss: 0.3411 - accuracy: 0.8907 - val_loss: 1.2880 - val_accuracy: 0.6529\n",
      "Epoch 17/50\n",
      "22/22 [==============================] - 0s 19ms/step - loss: 0.4160 - accuracy: 0.8479 - val_loss: 1.2229 - val_accuracy: 0.6471\n",
      "Epoch 18/50\n",
      "22/22 [==============================] - 0s 18ms/step - loss: 0.4334 - accuracy: 0.8523 - val_loss: 1.0465 - val_accuracy: 0.6882\n",
      "Epoch 19/50\n",
      "22/22 [==============================] - 0s 20ms/step - loss: 0.3448 - accuracy: 0.8804 - val_loss: 1.1587 - val_accuracy: 0.7059\n",
      "Epoch 20/50\n",
      "22/22 [==============================] - 1s 24ms/step - loss: 0.3316 - accuracy: 0.8863 - val_loss: 1.3150 - val_accuracy: 0.7059\n",
      "Epoch 21/50\n",
      "22/22 [==============================] - 0s 20ms/step - loss: 0.2683 - accuracy: 0.9114 - val_loss: 1.3166 - val_accuracy: 0.6706\n",
      "Epoch 22/50\n",
      "22/22 [==============================] - 0s 18ms/step - loss: 0.2603 - accuracy: 0.9099 - val_loss: 1.2346 - val_accuracy: 0.6824\n",
      "Epoch 23/50\n",
      "22/22 [==============================] - 0s 18ms/step - loss: 0.4684 - accuracy: 0.8626 - val_loss: 1.3505 - val_accuracy: 0.6882\n",
      "Epoch 24/50\n",
      "22/22 [==============================] - 1s 23ms/step - loss: 0.2972 - accuracy: 0.8981 - val_loss: 1.3026 - val_accuracy: 0.7118\n",
      "Epoch 25/50\n",
      "22/22 [==============================] - 0s 18ms/step - loss: 0.2155 - accuracy: 0.9394 - val_loss: 1.2334 - val_accuracy: 0.7118\n",
      "Epoch 26/50\n",
      "22/22 [==============================] - 0s 22ms/step - loss: 0.1664 - accuracy: 0.9439 - val_loss: 1.3247 - val_accuracy: 0.7235\n",
      "Epoch 27/50\n",
      "22/22 [==============================] - 0s 18ms/step - loss: 0.1312 - accuracy: 0.9601 - val_loss: 1.4885 - val_accuracy: 0.6706\n",
      "Epoch 28/50\n",
      "22/22 [==============================] - 0s 18ms/step - loss: 0.2052 - accuracy: 0.9217 - val_loss: 1.2973 - val_accuracy: 0.7000\n",
      "Epoch 29/50\n",
      "22/22 [==============================] - 0s 18ms/step - loss: 0.2011 - accuracy: 0.9350 - val_loss: 1.1983 - val_accuracy: 0.7353\n",
      "Epoch 30/50\n",
      "22/22 [==============================] - 0s 19ms/step - loss: 0.1312 - accuracy: 0.9572 - val_loss: 1.2718 - val_accuracy: 0.7059\n",
      "Epoch 31/50\n",
      "22/22 [==============================] - 1s 24ms/step - loss: 0.2428 - accuracy: 0.9158 - val_loss: 1.1711 - val_accuracy: 0.7412\n",
      "Epoch 32/50\n",
      "22/22 [==============================] - 0s 22ms/step - loss: 0.1741 - accuracy: 0.9321 - val_loss: 1.3498 - val_accuracy: 0.6882\n",
      "Epoch 33/50\n",
      "22/22 [==============================] - 0s 19ms/step - loss: 0.1344 - accuracy: 0.9513 - val_loss: 1.3716 - val_accuracy: 0.7176\n",
      "Epoch 34/50\n",
      "22/22 [==============================] - 0s 19ms/step - loss: 0.1436 - accuracy: 0.9527 - val_loss: 1.3453 - val_accuracy: 0.7059\n",
      "Epoch 35/50\n",
      "22/22 [==============================] - 0s 19ms/step - loss: 0.1413 - accuracy: 0.9557 - val_loss: 1.2491 - val_accuracy: 0.7235\n",
      "Epoch 36/50\n",
      "22/22 [==============================] - 0s 20ms/step - loss: 0.1148 - accuracy: 0.9690 - val_loss: 1.3856 - val_accuracy: 0.7059\n",
      "Epoch 37/50\n",
      "22/22 [==============================] - 1s 25ms/step - loss: 0.1169 - accuracy: 0.9572 - val_loss: 1.3595 - val_accuracy: 0.7118\n",
      "Epoch 38/50\n",
      "22/22 [==============================] - 0s 19ms/step - loss: 0.0815 - accuracy: 0.9778 - val_loss: 1.3578 - val_accuracy: 0.7000\n",
      "Epoch 39/50\n",
      "22/22 [==============================] - 0s 22ms/step - loss: 0.0786 - accuracy: 0.9749 - val_loss: 1.3319 - val_accuracy: 0.7353\n",
      "Epoch 40/50\n",
      "22/22 [==============================] - 0s 19ms/step - loss: 0.1036 - accuracy: 0.9645 - val_loss: 1.4280 - val_accuracy: 0.7294\n",
      "Epoch 41/50\n",
      "22/22 [==============================] - 1s 23ms/step - loss: 0.1087 - accuracy: 0.9645 - val_loss: 1.2811 - val_accuracy: 0.7118\n",
      "Epoch 42/50\n",
      "22/22 [==============================] - 0s 19ms/step - loss: 0.0753 - accuracy: 0.9778 - val_loss: 1.3679 - val_accuracy: 0.7294\n",
      "Epoch 43/50\n",
      "22/22 [==============================] - 0s 19ms/step - loss: 0.0548 - accuracy: 0.9808 - val_loss: 1.3943 - val_accuracy: 0.7294\n",
      "Epoch 44/50\n",
      "22/22 [==============================] - 0s 21ms/step - loss: 0.0600 - accuracy: 0.9778 - val_loss: 1.5093 - val_accuracy: 0.7059\n",
      "Epoch 45/50\n",
      "22/22 [==============================] - 0s 19ms/step - loss: 0.0729 - accuracy: 0.9838 - val_loss: 1.3786 - val_accuracy: 0.7294\n",
      "Epoch 46/50\n",
      "22/22 [==============================] - 1s 24ms/step - loss: 0.0585 - accuracy: 0.9823 - val_loss: 1.4050 - val_accuracy: 0.7353\n",
      "Epoch 47/50\n",
      "22/22 [==============================] - 0s 18ms/step - loss: 0.0696 - accuracy: 0.9764 - val_loss: 1.6230 - val_accuracy: 0.7000\n",
      "Epoch 48/50\n",
      "22/22 [==============================] - 0s 19ms/step - loss: 0.1263 - accuracy: 0.9557 - val_loss: 1.6594 - val_accuracy: 0.7235\n",
      "Epoch 49/50\n",
      "22/22 [==============================] - 0s 19ms/step - loss: 0.0799 - accuracy: 0.9778 - val_loss: 1.6082 - val_accuracy: 0.6588\n",
      "Epoch 50/50\n",
      "22/22 [==============================] - 0s 19ms/step - loss: 0.2285 - accuracy: 0.9468 - val_loss: 1.5382 - val_accuracy: 0.6647\n"
     ]
    },
    {
     "data": {
      "text/plain": [
       "<keras.callbacks.History at 0x1e2b1ce0b50>"
      ]
     },
     "execution_count": 4,
     "metadata": {},
     "output_type": "execute_result"
    }
   ],
   "source": [
    "from keras.layers import Dense, Dropout\n",
    "from keras.models import Sequential\n",
    "model = Sequential()\n",
    "sae_hidden_layers= [1024,512,256,128]\n",
    "model.add(Dense(sae_hidden_layers[0],input_dim=520,activation='relu',use_bias=False))\n",
    "for units in sae_hidden_layers[1:]:\n",
    "    model.add(Dense(units, activation='relu', use_bias=False))\n",
    "model.add(Dense(54, activation='softmax', use_bias=False))\n",
    "model.compile(optimizer='adam', loss='categorical_crossentropy', metrics=['accuracy'])\n",
    "model.fit(X_tr, Y_tr, validation_split=0.2, batch_size=32, epochs=50, verbose=1)"
   ]
  },
  {
   "cell_type": "code",
   "execution_count": 5,
   "id": "e0ad86d0",
   "metadata": {},
   "outputs": [
    {
     "name": "stdout",
     "output_type": "stream",
     "text": [
      "7/7 [==============================] - 0s 6ms/step\n"
     ]
    },
    {
     "data": {
      "text/plain": [
       "0.6462264150943396"
      ]
     },
     "execution_count": 5,
     "metadata": {},
     "output_type": "execute_result"
    }
   ],
   "source": [
    "preds = model.predict(X_test, batch_size=32)\n",
    "results = np.equal(np.argmax(Y_test, axis=1), np.argmax(preds, axis=1)).astype(int)\n",
    "acc = results.mean()\n",
    "acc"
   ]
  }
 ],
 "metadata": {
  "kernelspec": {
   "display_name": "tensorflow",
   "language": "python",
   "name": "tensorflow"
  },
  "language_info": {
   "codemirror_mode": {
    "name": "ipython",
    "version": 3
   },
   "file_extension": ".py",
   "mimetype": "text/x-python",
   "name": "python",
   "nbconvert_exporter": "python",
   "pygments_lexer": "ipython3",
   "version": "3.9.12"
  }
 },
 "nbformat": 4,
 "nbformat_minor": 5
}
