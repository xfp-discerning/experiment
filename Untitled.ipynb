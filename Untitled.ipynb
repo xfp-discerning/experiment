{
 "cells": [
  {
   "cell_type": "code",
   "execution_count": 1,
   "id": "0ed7259c",
   "metadata": {},
   "outputs": [],
   "source": [
    "import torch\n",
    "import torch.nn as nn\n",
    "import torch.nn.functional as F\n",
    "import torch.optim as optim\n",
    "import numpy as np\n",
    "import matplotlib.pyplot as plt\n",
    "import torchvision \n",
    "from torchvision import transforms"
   ]
  },
  {
   "cell_type": "code",
   "execution_count": 2,
   "id": "20f14eb2",
   "metadata": {
    "scrolled": false
   },
   "outputs": [
    {
     "data": {
      "text/plain": [
       "'1.12.0+cpu'"
      ]
     },
     "execution_count": 2,
     "metadata": {},
     "output_type": "execute_result"
    }
   ],
   "source": [
    "torch.__version__"
   ]
  },
  {
   "cell_type": "markdown",
   "id": "f9f709f6",
   "metadata": {},
   "source": [
    "## 数据准备"
   ]
  },
  {
   "cell_type": "code",
   "execution_count": 3,
   "id": "689b97f7",
   "metadata": {},
   "outputs": [],
   "source": [
    "#对数据进行归一化（-1，1）\n",
    "transform = transforms.Compose([\n",
    "    transforms.ToTensor(),\n",
    "    transforms.Normalize(0,0.5)\n",
    "])"
   ]
  },
  {
   "cell_type": "code",
   "execution_count": 4,
   "id": "9926ce6a",
   "metadata": {},
   "outputs": [],
   "source": [
    "train_ds = torchvision.datasets.MNIST('data',\n",
    "                                     train=True,\n",
    "                                     transform= transform,\n",
    "                                     download=True)"
   ]
  },
  {
   "cell_type": "code",
   "execution_count": 5,
   "id": "93dbee7b",
   "metadata": {},
   "outputs": [],
   "source": [
    "dataloader = torch.utils.data.DataLoader(train_ds,batch_size=64,shuffle= True)"
   ]
  },
  {
   "cell_type": "code",
   "execution_count": 6,
   "id": "e330d2fc",
   "metadata": {},
   "outputs": [
    {
     "data": {
      "text/plain": [
       "torch.Size([64, 1, 28, 28])"
      ]
     },
     "execution_count": 6,
     "metadata": {},
     "output_type": "execute_result"
    }
   ],
   "source": [
    "imgs,_ = next(iter(dataloader))\n",
    "imgs.shape"
   ]
  },
  {
   "cell_type": "markdown",
   "id": "2cabea99",
   "metadata": {},
   "source": [
    "## 定义生成器\n",
    "### 输入长度100的噪声（正态分布的随机数）\n",
    "### 输出是（1，28，28）的图片\n",
    "linear 1 : 100 - 256\n",
    "linear 2 : 256 - 512\n",
    "linear 3 : 100 - 28*28\n",
    "reshape : 28*28 - (1,28,28)"
   ]
  },
  {
   "cell_type": "code",
   "execution_count": 7,
   "id": "cbc623e8",
   "metadata": {},
   "outputs": [],
   "source": [
    "class Generator(nn.Module):\n",
    "    def __init__(self):\n",
    "        super(Generator,self).__init__()\n",
    "        self.main = nn.Sequential(\n",
    "                                    nn.Linear(100,256),\n",
    "                                    nn.ReLU(),\n",
    "                                    nn.Linear(256,512),\n",
    "                                    nn.ReLU(),\n",
    "                                    nn.Linear(512,28*28),\n",
    "                                    nn.Tanh()\n",
    "        )\n",
    "    def forward(self,x):\n",
    "        img = self.main(x)\n",
    "        img = img.view(-1,28,28,1)\n",
    "        return img"
   ]
  },
  {
   "cell_type": "markdown",
   "id": "3b8833de",
   "metadata": {},
   "source": [
    "## 定义判别器\n",
    "### 输入为（1，28，28）的图片，输出为二分类的概率值，使用sigmoid激活函数 0-1\n",
    "### BCELoss计算交叉熵损失\n",
    "### 判别器一般推荐leakReLU"
   ]
  },
  {
   "cell_type": "code",
   "execution_count": 8,
   "id": "89b2a741",
   "metadata": {},
   "outputs": [],
   "source": [
    "class Discriminator (nn.Module):\n",
    "    def __init__(self):\n",
    "        super(Discriminator,self).__init__()\n",
    "        self.main = nn.Sequential(\n",
    "                                nn.Linear(28*28,512),\n",
    "                                nn.LeakyReLU(),\n",
    "                                nn.Linear(512,256),\n",
    "                                nn.LeakyReLU(),\n",
    "                                nn.Linear(256,1),\n",
    "                                nn.Sigmoid()\n",
    "                                )\n",
    "    def forward(self,x):\n",
    "        x = x.view(-1,28*28)\n",
    "        x = self.main(x)\n",
    "        return x\n",
    "    "
   ]
  },
  {
   "cell_type": "markdown",
   "id": "da423275",
   "metadata": {},
   "source": [
    "### 初始化模型 优化器及损失计算函数"
   ]
  },
  {
   "cell_type": "code",
   "execution_count": 9,
   "id": "0c633913",
   "metadata": {},
   "outputs": [],
   "source": [
    "device = 'cuda' if torch.cuda.is_available() else 'cpu'"
   ]
  },
  {
   "cell_type": "code",
   "execution_count": 10,
   "id": "d5499657",
   "metadata": {},
   "outputs": [],
   "source": [
    "gen = Generator().to(device)\n",
    "dis = Discriminator().to(device)"
   ]
  },
  {
   "cell_type": "code",
   "execution_count": 11,
   "id": "11982c77",
   "metadata": {},
   "outputs": [],
   "source": [
    "d_optim = torch.optim.Adam(dis.parameters(),lr=0.001)\n",
    "g_optim = torch.optim.Adam(gen.parameters(),lr=0.001)"
   ]
  },
  {
   "cell_type": "code",
   "execution_count": 12,
   "id": "1fe3adf7",
   "metadata": {},
   "outputs": [],
   "source": [
    "loss_fn = torch.nn.BCELoss()"
   ]
  },
  {
   "cell_type": "markdown",
   "id": "03c16ae1",
   "metadata": {},
   "source": [
    "### 绘图函数"
   ]
  },
  {
   "cell_type": "code",
   "execution_count": 13,
   "id": "b75301c7",
   "metadata": {},
   "outputs": [],
   "source": [
    "def gen_img_plt(model,test_input):\n",
    "    prediction = np.squeeze(model(test_input).detach().cpu().numpy())\n",
    "    fig = plt.figure(figsize=(4,4))\n",
    "    for i in range(16):\n",
    "        plt.subplot(4,4,i+1)\n",
    "        plt.imshow((prediction[i]+1)/2)\n",
    "        plt.axis('off')\n",
    "    plt.show()"
   ]
  },
  {
   "cell_type": "code",
   "execution_count": 14,
   "id": "d49c6b86",
   "metadata": {},
   "outputs": [],
   "source": [
    "test_input = torch.randn(16,100,device=device)"
   ]
  },
  {
   "cell_type": "markdown",
   "id": "1e9b9e21",
   "metadata": {},
   "source": [
    "### GAN的训练"
   ]
  },
  {
   "cell_type": "code",
   "execution_count": 15,
   "id": "466821e7",
   "metadata": {},
   "outputs": [],
   "source": [
    "D_loss = []\n",
    "G_loss = []"
   ]
  },
  {
   "cell_type": "code",
   "execution_count": null,
   "id": "7b81edc2",
   "metadata": {},
   "outputs": [
    {
     "name": "stdout",
     "output_type": "stream",
     "text": [
      "Epoch: 1\n"
     ]
    }
   ],
   "source": [
    "#训练循环\n",
    "for epoch in range(20):\n",
    "    d_epoch_loss = 0\n",
    "    g_epoch_loss = 0\n",
    "    count = len(dataloader)\n",
    "    for step ,(img,_) in enumerate(dataloader):\n",
    "        img = img.to(device)\n",
    "        size = img.size(0)\n",
    "        random_noise = torch.randn(size,100,device= device)\n",
    "        \n",
    "        d_optim.zero_grad()\n",
    "        real_output = dis(img)  #判别器输入真实图片,real_output对生成图片的预测\n",
    "        d_real_loss = loss_fn(real_output,\n",
    "                              torch.ones_like(real_output)) #得到真实图片在判别器上的损失\n",
    "        d_real_loss.backward()\n",
    "        \n",
    "        gen_img = gen(random_noise)#判别器输入生成图片,fake_output对生成图片的预测\n",
    "        fake_output = dis(gen_img.detach()) #detach()的作用是截断梯度,但是没搞懂\n",
    "        d_fake_loss = loss_fn(fake_output,\n",
    "                             torch.zeros_like(fake_output))#得到在生成图片在判别器上的损失\n",
    "        d_fake_loss.backward()\n",
    "        d_loss = d_real_loss+d_fake_loss\n",
    "        d_optim.step()\n",
    "        \n",
    "        g_optim.zero_grad()\n",
    "        fake_output = dis(gen_img)\n",
    "        g_loss =loss_fn(fake_output,\n",
    "                       torch.ones_like(fake_output)) #生成器损失\n",
    "        g_loss.backward()\n",
    "        g_optim.step()\n",
    "        \n",
    "        with torch.no_grad():\n",
    "            d_epoch_loss += d_loss\n",
    "            g_epoch_loss += g_loss\n",
    "    with torch.no_grad():\n",
    "        d_epoch_loss /= count\n",
    "        g_epoch_loss /= count\n",
    "        D_loss.append(d_epoch_loss)\n",
    "        G_loss.append(g_epoch_loss)\n",
    "        print('Epoch:',epoch+1)\n",
    "        gen_img_plt(gen,test_input=test_input)"
   ]
  }
 ],
 "metadata": {
  "kernelspec": {
   "display_name": "Python 3 (ipykernel)",
   "language": "python",
   "name": "python3"
  },
  "language_info": {
   "codemirror_mode": {
    "name": "ipython",
    "version": 3
   },
   "file_extension": ".py",
   "mimetype": "text/x-python",
   "name": "python",
   "nbconvert_exporter": "python",
   "pygments_lexer": "ipython3",
   "version": "3.9.12"
  }
 },
 "nbformat": 4,
 "nbformat_minor": 5
}
