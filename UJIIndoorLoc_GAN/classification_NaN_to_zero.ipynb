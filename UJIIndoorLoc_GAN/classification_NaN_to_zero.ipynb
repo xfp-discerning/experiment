{
 "cells": [
  {
   "cell_type": "code",
   "execution_count": 75,
   "id": "2f322232",
   "metadata": {},
   "outputs": [],
   "source": [
    "from keras.models import Sequential, Model\n",
    "from keras.layers import Input, Dense, Reshape, Flatten, LeakyReLU\n",
    "from keras.layers import BatchNormalization\n",
    "from keras.optimizers import Adam\n",
    "from keras.backend import clear_session\n",
    "from keras.utils import to_categorical\n",
    "from sklearn.utils import shuffle\n",
    "from sklearn.model_selection import train_test_split\n",
    "from sklearn.preprocessing import StandardScaler\n",
    "from sklearn.preprocessing import MinMaxScaler\n",
    "from tqdm import tqdm_notebook\n",
    "from tqdm import tqdm\n",
    "from numpy.random import seed\n",
    "import tensorflow as tf\n",
    "from IPython.display import display\n",
    "import pandas as pd\n",
    "import numpy as np\n",
    "import matplotlib.pyplot as plt\n",
    "import ipywidgets as widgets"
   ]
  },
  {
   "cell_type": "code",
   "execution_count": 76,
   "id": "b7a8dce2",
   "metadata": {},
   "outputs": [],
   "source": [
    "#Data Parameters\n",
    "num_of_classes = 4\n",
    "data_shape = (7,1)\n",
    "\n",
    "#MLP Parameters\n",
    "times_to_run = 50 #Number of times to run MLP model\n",
    "mlp_epochs = 40\n",
    "valid_split = 0.20\n",
    "\n",
    "#GAN Parameters\n",
    "latent_dim = 100\n",
    "gan_epochs = 5000\n",
    "\n",
    "#Random Seeds\n",
    "selection_seed = 150\n",
    "seed_multiplier = 1000000"
   ]
  },
  {
   "cell_type": "code",
   "execution_count": 77,
   "id": "0beff74a",
   "metadata": {},
   "outputs": [],
   "source": [
    "fraction_of_data = 0.1\n",
    "data_to_gen = 250"
   ]
  },
  {
   "cell_type": "code",
   "execution_count": 78,
   "id": "0562abe5",
   "metadata": {},
   "outputs": [
    {
     "data": {
      "text/plain": [
       "(array([[-110, -110, -110, ..., -110, -110, -110],\n",
       "        [-110, -110, -110, ..., -110, -110, -110],\n",
       "        [-110, -110, -110, ..., -110, -110, -110],\n",
       "        ...,\n",
       "        [-110, -110, -110, ..., -110, -110, -110],\n",
       "        [-110, -110, -110, ..., -110, -110, -110],\n",
       "        [-110, -110, -110, ..., -110, -110, -110]], dtype=int64),\n",
       " array([ 0,  0,  0, ..., 12, 12, 12]))"
      ]
     },
     "execution_count": 78,
     "metadata": {},
     "output_type": "execute_result"
    }
   ],
   "source": [
    "dataset = pd.read_csv(\"./UJIIndoorLoc/train_sorted_by_BF.csv\")\n",
    "dataset[\"BF\"] = pd.factorize(dataset[\"BF\"])[0].astype(int)#将标签映射到顺序数字上\n",
    "labels = dataset.BF.values\n",
    "features = dataset.drop(columns=['TIMESTAMP','PHONEID','USERID','RELATIVEPOSITION',\n",
    "                                'SPACEID','BUILDINGID','FLOOR','LATITUDE','LONGITUDE',\n",
    "                                'BF']).values\n",
    "features,labels"
   ]
  },
  {
   "cell_type": "code",
   "execution_count": 79,
   "id": "07041550",
   "metadata": {},
   "outputs": [],
   "source": [
    "# features[features==-110]=100\n",
    "# features"
   ]
  },
  {
   "cell_type": "code",
   "execution_count": 80,
   "id": "95f34f66",
   "metadata": {},
   "outputs": [
    {
     "data": {
      "text/plain": [
       "(array([[0., 0., 0., ..., 0., 0., 0.],\n",
       "        [0., 0., 0., ..., 0., 1., 0.],\n",
       "        [0., 0., 1., ..., 0., 0., 0.],\n",
       "        ...,\n",
       "        [0., 0., 0., ..., 0., 0., 1.],\n",
       "        [0., 0., 0., ..., 0., 0., 0.],\n",
       "        [0., 0., 0., ..., 0., 0., 0.]], dtype=float32),\n",
       " (5982, 13))"
      ]
     },
     "execution_count": 80,
     "metadata": {},
     "output_type": "execute_result"
    }
   ],
   "source": [
    "#划分数据集\n",
    "X_train, X_test, Y_train, Y_test = train_test_split(features, \n",
    "                                                    labels, \n",
    "                                                    test_size=0.3,\n",
    "                                                    random_state= selection_seed,\n",
    "                                                    #random_state：可以理解为随机数种子，主要是为了复现结果而设置\n",
    "                                                    stratify=labels)\n",
    "X_train,Y_train = shuffle(X_train, Y_train)\n",
    "Y_train_encoded = to_categorical(Y_train)\n",
    "Y_test_encoded = to_categorical(Y_test)\n",
    "scaler = StandardScaler()  #from sklearn.preprocessing import StandardScaler\n",
    "X_train_transformed = scaler.fit_transform(X_train)\n",
    "X_test_transformed = scaler.fit_transform(X_test)\n",
    "Y_test_encoded,Y_test_encoded.shape"
   ]
  },
  {
   "cell_type": "code",
   "execution_count": 81,
   "id": "0f5371a5",
   "metadata": {},
   "outputs": [
    {
     "name": "stdout",
     "output_type": "stream",
     "text": [
      "Epoch 1/20\n",
      "219/219 [==============================] - 1s 5ms/step - loss: 679.4648\n",
      "Epoch 2/20\n",
      "219/219 [==============================] - 1s 4ms/step - loss: 36.3795\n",
      "Epoch 3/20\n",
      "219/219 [==============================] - 1s 5ms/step - loss: 36.4070\n",
      "Epoch 4/20\n",
      "219/219 [==============================] - 1s 5ms/step - loss: 36.3839\n",
      "Epoch 5/20\n",
      "219/219 [==============================] - 1s 5ms/step - loss: 36.3191\n",
      "Epoch 6/20\n",
      "219/219 [==============================] - 1s 5ms/step - loss: 34.8345\n",
      "Epoch 7/20\n",
      "219/219 [==============================] - 1s 5ms/step - loss: 32.1959\n",
      "Epoch 8/20\n",
      "219/219 [==============================] - 1s 5ms/step - loss: 31.5441\n",
      "Epoch 9/20\n",
      "219/219 [==============================] - 1s 5ms/step - loss: 29.9039\n",
      "Epoch 10/20\n",
      "219/219 [==============================] - 1s 5ms/step - loss: 27.7273\n",
      "Epoch 11/20\n",
      "219/219 [==============================] - 1s 5ms/step - loss: 25.6606\n",
      "Epoch 12/20\n",
      "219/219 [==============================] - 1s 4ms/step - loss: 24.0482\n",
      "Epoch 13/20\n",
      "219/219 [==============================] - 1s 5ms/step - loss: 23.2992\n",
      "Epoch 14/20\n",
      "219/219 [==============================] - 1s 4ms/step - loss: 22.4729\n",
      "Epoch 15/20\n",
      "219/219 [==============================] - 1s 5ms/step - loss: 21.3422\n",
      "Epoch 16/20\n",
      "219/219 [==============================] - 1s 5ms/step - loss: 19.7536\n",
      "Epoch 17/20\n",
      "219/219 [==============================] - 1s 5ms/step - loss: 19.0167\n",
      "Epoch 18/20\n",
      "219/219 [==============================] - 1s 5ms/step - loss: 18.1086\n",
      "Epoch 19/20\n",
      "219/219 [==============================] - 1s 5ms/step - loss: 17.4753\n",
      "Epoch 20/20\n",
      "219/219 [==============================] - 1s 5ms/step - loss: 16.4841\n"
     ]
    },
    {
     "data": {
      "text/plain": [
       "<keras.callbacks.History at 0x170829fcbe0>"
      ]
     },
     "execution_count": 81,
     "metadata": {},
     "output_type": "execute_result"
    }
   ],
   "source": [
    "model = Sequential()\n",
    "sae_hidden_layers= [256,128,64,128,256]\n",
    "model.add(Dense(sae_hidden_layers[0],input_dim=520,activation=tf.keras.layers.LeakyReLU(alpha=0.3),use_bias=False))\n",
    "for units in sae_hidden_layers[1:]:\n",
    "    model.add(Dense(units, activation=tf.keras.layers.LeakyReLU(alpha=0.3), use_bias=False))\n",
    "model.add(Dense(520, activation=tf.keras.layers.LeakyReLU(alpha=0.3), use_bias=False))\n",
    "model.compile(optimizer='adam', loss='mse')\n",
    "model.fit(X_train,X_train,batch_size=64,epochs=20,verbose=1)"
   ]
  },
  {
   "cell_type": "code",
   "execution_count": 82,
   "id": "27610995",
   "metadata": {},
   "outputs": [],
   "source": [
    "num_to_remove = (len(sae_hidden_layers) + 1) // 2\n",
    "for i in range(num_to_remove):\n",
    "    model.pop()"
   ]
  },
  {
   "cell_type": "code",
   "execution_count": 83,
   "id": "5a3ad700",
   "metadata": {},
   "outputs": [
    {
     "name": "stdout",
     "output_type": "stream",
     "text": [
      "Epoch 1/20\n",
      "175/175 [==============================] - 1s 5ms/step - loss: 0.0639 - accuracy: 0.8672 - val_loss: 0.0104 - val_accuracy: 0.9807\n",
      "Epoch 2/20\n",
      "175/175 [==============================] - 1s 4ms/step - loss: 0.0066 - accuracy: 0.9865 - val_loss: 0.0100 - val_accuracy: 0.9789\n",
      "Epoch 3/20\n",
      "175/175 [==============================] - 1s 4ms/step - loss: 0.0052 - accuracy: 0.9885 - val_loss: 0.0070 - val_accuracy: 0.9882\n",
      "Epoch 4/20\n",
      "175/175 [==============================] - 1s 4ms/step - loss: 0.0032 - accuracy: 0.9931 - val_loss: 0.0105 - val_accuracy: 0.9824\n",
      "Epoch 5/20\n",
      "175/175 [==============================] - 1s 4ms/step - loss: 0.0054 - accuracy: 0.9889 - val_loss: 0.0076 - val_accuracy: 0.9882\n",
      "Epoch 6/20\n",
      "175/175 [==============================] - 1s 4ms/step - loss: 0.0044 - accuracy: 0.9925 - val_loss: 0.0063 - val_accuracy: 0.9889\n",
      "Epoch 7/20\n",
      "175/175 [==============================] - 1s 4ms/step - loss: 0.0034 - accuracy: 0.9927 - val_loss: 0.0076 - val_accuracy: 0.9864\n",
      "Epoch 8/20\n",
      "175/175 [==============================] - 1s 4ms/step - loss: 0.0029 - accuracy: 0.9931 - val_loss: 0.0080 - val_accuracy: 0.9882\n",
      "Epoch 9/20\n",
      "175/175 [==============================] - 1s 4ms/step - loss: 0.0024 - accuracy: 0.9940 - val_loss: 0.0084 - val_accuracy: 0.9878\n",
      "Epoch 10/20\n",
      "175/175 [==============================] - 1s 4ms/step - loss: 0.0019 - accuracy: 0.9953 - val_loss: 0.0075 - val_accuracy: 0.9875\n",
      "Epoch 11/20\n",
      "175/175 [==============================] - 1s 4ms/step - loss: 0.0015 - accuracy: 0.9964 - val_loss: 0.0070 - val_accuracy: 0.9918\n",
      "Epoch 12/20\n",
      "175/175 [==============================] - 1s 4ms/step - loss: 0.0011 - accuracy: 0.9966 - val_loss: 0.0081 - val_accuracy: 0.9893\n",
      "Epoch 13/20\n",
      "175/175 [==============================] - 1s 4ms/step - loss: 0.0038 - accuracy: 0.9940 - val_loss: 0.0099 - val_accuracy: 0.9885\n",
      "Epoch 14/20\n",
      "175/175 [==============================] - 1s 4ms/step - loss: 0.0028 - accuracy: 0.9939 - val_loss: 0.0101 - val_accuracy: 0.9871\n",
      "Epoch 15/20\n",
      "175/175 [==============================] - 1s 4ms/step - loss: 0.0038 - accuracy: 0.9935 - val_loss: 0.0089 - val_accuracy: 0.9857\n",
      "Epoch 16/20\n",
      "175/175 [==============================] - 1s 4ms/step - loss: 0.0018 - accuracy: 0.9956 - val_loss: 0.0067 - val_accuracy: 0.9900\n",
      "Epoch 17/20\n",
      "175/175 [==============================] - 1s 4ms/step - loss: 8.7941e-04 - accuracy: 0.9972 - val_loss: 0.0064 - val_accuracy: 0.9889\n",
      "Epoch 18/20\n",
      "175/175 [==============================] - 1s 4ms/step - loss: 9.0981e-04 - accuracy: 0.9972 - val_loss: 0.0064 - val_accuracy: 0.9914\n",
      "Epoch 19/20\n",
      "175/175 [==============================] - 1s 4ms/step - loss: 7.5639e-04 - accuracy: 0.9975 - val_loss: 0.0069 - val_accuracy: 0.9889\n",
      "Epoch 20/20\n",
      "175/175 [==============================] - 1s 4ms/step - loss: 0.0012 - accuracy: 0.9962 - val_loss: 0.0069 - val_accuracy: 0.9910\n"
     ]
    },
    {
     "data": {
      "text/plain": [
       "<keras.callbacks.History at 0x17082940e80>"
      ]
     },
     "execution_count": 83,
     "metadata": {},
     "output_type": "execute_result"
    }
   ],
   "source": [
    "classifier_hidden_layers = [128,128]\n",
    "for units in classifier_hidden_layers:\n",
    "    model.add(Dense(units, activation='relu', use_bias=False))\n",
    "model.add(Dense(13, activation='sigmoid', use_bias=False))  # 'sigmoid' for multi-label classification\n",
    "model.compile(optimizer= 'adam', loss='binary_crossentropy', metrics=['accuracy'])\n",
    "model.fit(X_train_transformed, Y_train_encoded, validation_split=0.2, batch_size=64, epochs=20, verbose=1)"
   ]
  },
  {
   "cell_type": "code",
   "execution_count": 84,
   "id": "d23bfb4a",
   "metadata": {},
   "outputs": [
    {
     "name": "stdout",
     "output_type": "stream",
     "text": [
      "187/187 [==============================] - 0s 2ms/step\n"
     ]
    },
    {
     "data": {
      "text/plain": [
       "0.9928117686392511"
      ]
     },
     "execution_count": 84,
     "metadata": {},
     "output_type": "execute_result"
    }
   ],
   "source": [
    "preds = model.predict(X_test_transformed, batch_size=32)\n",
    "result = np.equal(np.argmax(Y_test_encoded,axis=1), np.argmax(preds,axis=1)).astype(int)\n",
    "acc = result.mean()\n",
    "acc"
   ]
  }
 ],
 "metadata": {
  "kernelspec": {
   "display_name": "tensorflow",
   "language": "python",
   "name": "tensorflow"
  },
  "language_info": {
   "codemirror_mode": {
    "name": "ipython",
    "version": 3
   },
   "file_extension": ".py",
   "mimetype": "text/x-python",
   "name": "python",
   "nbconvert_exporter": "python",
   "pygments_lexer": "ipython3",
   "version": "3.9.12"
  }
 },
 "nbformat": 4,
 "nbformat_minor": 5
}
