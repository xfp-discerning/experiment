{
 "cells": [
  {
   "cell_type": "code",
   "execution_count": 4,
   "id": "6a5ef08f",
   "metadata": {},
   "outputs": [],
   "source": [
    "import pandas as pd\n",
    "import numpy as np"
   ]
  },
  {
   "cell_type": "code",
   "execution_count": 5,
   "id": "d44e2157",
   "metadata": {
    "scrolled": false
   },
   "outputs": [],
   "source": [
    "lst = ['00', '01', '02', '03', '10', '11', '12', '13', '20', '21', '22', '23', '24']\n",
    "for i in lst:\n",
    "    train_df = pd.read_csv('./UJIIndoorLoc/children_13/{}.csv'.format(i))\n",
    "    # train_df= train_df.sort_values(by=['BUILDINGID','FLOOR'])#按照两个标签排序\n",
    "    train_df['REF'] = train_df.apply(lambda row: str(int(row['SPACEID']))+str(int(row['RELATIVEPOSITION'])),\n",
    "                                  axis=1)\n",
    "    # print(np.unique(train_df['BF']))\n",
    "    train_df = train_df.sort_values(by='REF')\n",
    "    train_df.to_csv('./UJIIndoorLoc/children_13/{}_sorted.csv'.format(i),',',index=False)# sep=','间隔符号是“，”  csv识别的关键\n",
    "\n",
    "    # a = np.array(train_df['BUILDINGID'])\n",
    "    # b = np.array(train_df['FLOOR'])\n",
    "    # print(train_df['BUILDINGID'].value_counts()) #统计BUILDINGID标签下面每个标签的样本数量\n",
    "    # print(train_df['FLOOR'].value_counts())\n",
    "#     train_df\n"
   ]
  },
  {
   "cell_type": "code",
   "execution_count": 20,
   "id": "208b0763",
   "metadata": {},
   "outputs": [
    {
     "data": {
      "text/plain": [
       "19937"
      ]
     },
     "execution_count": 20,
     "metadata": {},
     "output_type": "execute_result"
    }
   ],
   "source": [
    "# np.unique(train_df['BF']) #['00', '01', '02', '03', '10', '11', '12', '13', '20', '21', '22', '23', '24']\n",
    "# 切分数据集成子数据集，创建空表\n",
    "a = np.unique(train_df['BF'])\n",
    "# for i in a:\n",
    "#     with open('./UJIIndoorLoc/children/{}.csv'.format(i),'w') as file:\n",
    "#         print('{}.csv创建成功'.format(i))  #快速创建空文档\n",
    "len(train_df)"
   ]
  },
  {
   "cell_type": "code",
   "execution_count": 21,
   "id": "4530ebf6",
   "metadata": {},
   "outputs": [],
   "source": [
    "# for j in a:\n",
    "#     for i in range(len(train_df)):\n",
    "#         if(train_df.iloc[i,522]==j[0] and train_df.iloc[i,521]==j[1]):\n",
    "#             train_df.iloc[i].to_csv('{}.csv'.format(j),'a',index=True)\n",
    "#             else:\n",
    "#                 break   #可用于没sort过的train_df来切分\n",
    "\n",
    "# train_df[0:2].to_csv('./UJIIndoorLoc/children/{}.csv'.format(a[0]),',',index=False)  #success\n",
    "# j = a[4]\n",
    "# print(train_df.iloc[5700,523]!=int(j[0]),train_df.iloc[5700,522]!=int(j[1]))\n",
    "# j,train_df.iloc[5700,523]!=int(j[0]) and train_df.iloc[5700,522]!=int(j[1]),train_df.iloc[5700,523],train_df.iloc[5700,522]\n",
    "\n",
    "##将切分后的数据分别装进空csv中\n",
    "x = 0\n",
    "y = 0\n",
    "for j in a:\n",
    "    while(True):\n",
    "        if(train_df.iloc[x,523]!=int(j[1]) or train_df.iloc[x,522]!=int(j[0])):  #这里的索引x不能为len(train_df)\n",
    "            train_df[y:x].to_csv('./UJIIndoorLoc/children_13/{}_{}.csv'.format(j,x-y),',',index=False)#这里的取行可为len(train_df)，左闭右开\n",
    "            y = x\n",
    "            break\n",
    "        else:\n",
    "            if(x==len(train_df)-1):\n",
    "                train_df[y:x+1].to_csv('./UJIIndoorLoc/children_13/{}_{}.csv'.format(j,x-y+1),',',index=False)\n",
    "                break\n",
    "            else:\n",
    "                x+=1"
   ]
  },
  {
   "cell_type": "code",
   "execution_count": null,
   "id": "28df3667",
   "metadata": {},
   "outputs": [],
   "source": []
  }
 ],
 "metadata": {
  "kernelspec": {
   "display_name": "Python 3 (ipykernel)",
   "language": "python",
   "name": "python3"
  },
  "language_info": {
   "codemirror_mode": {
    "name": "ipython",
    "version": 3
   },
   "file_extension": ".py",
   "mimetype": "text/x-python",
   "name": "python",
   "nbconvert_exporter": "python",
   "pygments_lexer": "ipython3",
   "version": "3.9.12"
  }
 },
 "nbformat": 4,
 "nbformat_minor": 5
}
