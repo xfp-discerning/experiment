{
 "cells": [
  {
   "cell_type": "code",
   "execution_count": 8,
   "id": "5188c38b",
   "metadata": {},
   "outputs": [],
   "source": [
    "from keras.models import Sequential, Model\n",
    "from keras.layers import Input, Dense, Reshape, Flatten, LeakyReLU, Dropout\n",
    "from keras.layers import BatchNormalization\n",
    "from keras.optimizers import Adam\n",
    "from keras.backend import clear_session\n",
    "from keras.utils import to_categorical\n",
    "from sklearn.utils import shuffle\n",
    "from sklearn.model_selection import train_test_split\n",
    "from sklearn.preprocessing import StandardScaler\n",
    "from sklearn.preprocessing import MinMaxScaler\n",
    "from tqdm import tqdm_notebook\n",
    "from tqdm import tqdm\n",
    "from numpy.random import seed\n",
    "import tensorflow as tf\n",
    "from IPython.display import display\n",
    "import pandas as pd\n",
    "import numpy as np\n",
    "import matplotlib.pyplot as plt\n",
    "import ipywidgets as widgets\n",
    "import datetime\n",
    "import os"
   ]
  },
  {
   "cell_type": "code",
   "execution_count": 9,
   "id": "80b78c3b",
   "metadata": {},
   "outputs": [],
   "source": [
    "#Data Parameters\n",
    "num_of_classes = 54\n",
    "data_shape = (119,1)\n",
    "\n",
    "#MLP Parameters\n",
    "times_to_run = 10 #Number of times to run MLP model\n",
    "mlp_epochs = 40\n",
    "valid_split = 0.20\n",
    "\n",
    "#Random Seeds\n",
    "selection_seed = 150\n",
    "seed_multiplier = 1000000"
   ]
  },
  {
   "cell_type": "code",
   "execution_count": 10,
   "id": "a8f22fef",
   "metadata": {},
   "outputs": [
    {
     "name": "stdout",
     "output_type": "stream",
     "text": [
      "(1059, 531)\n",
      "-110.0\n",
      "(1059, 130)\n"
     ]
    },
    {
     "data": {
      "text/plain": [
       "(array([[-110, -110, -110, ..., -110, -110, -110],\n",
       "        [-110, -110, -110, ..., -110, -110, -110],\n",
       "        [-110, -110, -110, ..., -110, -110, -110],\n",
       "        ...,\n",
       "        [-110, -110, -110, ..., -110, -110, -110],\n",
       "        [-110, -110, -110, ..., -110, -110, -110],\n",
       "        [-110, -110, -110, ..., -110, -110, -110]], dtype=int64),\n",
       " array([ 0,  0,  0, ..., 53, 53, 53]),\n",
       " (1059, 119))"
      ]
     },
     "execution_count": 10,
     "metadata": {},
     "output_type": "execute_result"
    }
   ],
   "source": [
    "path = \"./data/00_sorted.csv\"\n",
    "train_df = pd.read_csv(path,header=0)\n",
    "print(train_df.shape)\n",
    "a = train_df.mean()\n",
    "print(a[\"WAP004\"])\n",
    "for i in train_df.columns[:520]:\n",
    "    if a[i]==-110:\n",
    "        del train_df[i]\n",
    "print(train_df.shape)\n",
    "train_df[\"REF\"] = pd.factorize(train_df[\"REF\"])[0].astype(int)#将标签映射到顺序数字上\n",
    "labels = train_df.REF.values\n",
    "features = train_df.drop(columns=['TIMESTAMP','PHONEID','USERID','RELATIVEPOSITION',\n",
    "                                'SPACEID','BUILDINGID','FLOOR','LATITUDE','LONGITUDE',\n",
    "                                'BF','REF']).values\n",
    "input_shape = features.shape[1:]\n",
    "features,labels,features.shape"
   ]
  },
  {
   "cell_type": "code",
   "execution_count": 11,
   "id": "36723e83",
   "metadata": {},
   "outputs": [
    {
     "data": {
      "text/plain": [
       "(array([[-110, -110, -110, ..., -110, -110, -110],\n",
       "        [-110, -110, -110, ..., -110, -110, -110],\n",
       "        [-110, -110, -110, ..., -110, -110, -110],\n",
       "        ...,\n",
       "        [-110, -110, -110, ..., -110, -110, -110],\n",
       "        [-110, -110, -110, ..., -110, -110, -110],\n",
       "        [-110, -110, -110, ..., -110, -110, -110]], dtype=int64),\n",
       " (847, 119),\n",
       " array([ 3, 13, 45, 14,  6, 22, 15, 10,  8, 29, 48, 26,  9, 36,  0, 19, 13,\n",
       "         5, 20, 44, 18, 44, 34, 17, 19,  4, 11, 45, 13, 51, 26, 22, 13, 53,\n",
       "        27, 32, 44, 25, 50, 46, 28, 19,  5, 32, 45, 49, 16,  8, 24,  9, 46,\n",
       "        39, 51, 13, 15, 42, 14, 34, 17, 12, 40, 42,  7,  4, 15, 40, 24, 37,\n",
       "        28,  6, 21, 37, 35, 16, 27, 27, 31, 50, 37, 52, 24, 41, 21, 42, 38,\n",
       "        35, 53, 31, 46, 29, 29, 47,  5, 26, 18, 12, 35, 22, 17, 20, 20, 23,\n",
       "         1, 41, 33, 42, 17,  5, 50, 25, 25, 13, 21, 21, 24, 17, 27, 12,  3,\n",
       "        18, 12, 24, 14, 38, 21, 45, 25, 25, 13,  8, 25, 25, 27, 23, 39,  7,\n",
       "        14, 50, 33,  4, 19, 33, 28, 46, 47, 26, 17, 22,  5, 51,  7, 52, 39,\n",
       "        24, 52, 34,  2, 21, 50, 28, 53, 45, 46, 10, 52, 17, 46, 27, 38, 51,\n",
       "        46,  6,  6, 26, 36, 32, 52, 41, 18,  6, 40, 16,  9, 42, 13, 31, 47,\n",
       "        32, 15, 40, 20,  8, 40, 51, 33, 20, 27, 13,  6, 15, 22,  1, 34,  4,\n",
       "        51, 26, 14, 25, 51, 14, 37, 16, 26, 46, 30, 33, 14, 49, 20, 34, 48,\n",
       "        22,  6, 19, 13,  6, 28, 33,  2, 41, 39, 21,  5,  4, 30, 13, 25, 16,\n",
       "        31, 13, 16, 39,  9,  7, 26,  1,  0, 24, 28, 46, 46,  4, 24, 45, 37,\n",
       "        16,  2, 47, 31, 34, 41, 25,  9, 21, 20, 34, 32,  4, 32,  3, 43, 49,\n",
       "        33, 44, 50, 24, 46, 48,  6, 51,  6,  9, 49, 45, 12, 20, 27, 20,  0,\n",
       "        10, 27,  3, 24, 37, 39, 30, 38, 29, 35, 13, 17, 47, 11, 53, 49,  2,\n",
       "        13, 23, 31, 50,  0, 16, 48,  9, 13, 36, 40, 10, 28, 49, 28,  7, 30,\n",
       "        17, 24, 30, 40, 32, 39, 37, 35, 30, 26, 25, 22,  4, 20, 50, 27, 15,\n",
       "        35, 13, 11, 15, 41, 14, 26, 32, 52, 48, 51, 45, 49, 51, 52, 21, 19,\n",
       "        53,  5, 46, 15, 53, 14,  7,  0, 37, 25, 45, 12, 32, 21, 35, 18,  4,\n",
       "        22,  4, 40, 45, 36, 47, 39, 11, 14,  0, 53,  4,  5, 25, 25, 35,  6,\n",
       "        36, 12, 37, 31, 46,  1, 28, 52, 35, 33,  0, 10, 20, 26, 26, 13, 20,\n",
       "         9,  4, 19, 32, 38, 14, 13, 28,  7, 40, 43,  5, 25, 30, 12, 51, 34,\n",
       "        40, 43, 31,  0, 29, 21, 15, 32, 48, 14, 30, 51,  0, 12, 45, 20, 26,\n",
       "        52, 40,  0, 20, 25, 18, 25, 17, 38, 42, 35, 30, 26, 33, 28, 27, 28,\n",
       "        32,  1, 36, 33, 25, 12, 47, 38, 39, 16,  8, 30, 38, 13, 21, 34, 44,\n",
       "         7, 34, 48, 11, 36, 52, 32, 24, 12, 33, 15, 29, 18, 13, 33, 46, 47,\n",
       "        31, 25, 33, 24,  9, 49,  4, 30, 11, 49, 24, 18, 43, 15, 13, 19, 47,\n",
       "        26, 41, 25,  6, 29, 10, 24,  9, 20,  7, 34, 44, 42, 29,  8, 11, 19,\n",
       "        38, 29, 16,  2, 47, 53,  7, 50, 45, 18, 21, 41, 29, 42, 53, 50, 49,\n",
       "         3, 27, 38, 51, 39, 30, 17, 47, 15,  6, 23, 14, 34, 22, 44, 40, 32,\n",
       "        52, 37, 27, 34, 13, 40,  5, 49, 19, 19, 50, 20, 39, 43,  1, 36, 53,\n",
       "        35, 16, 37, 31,  5, 49,  7, 23, 26, 37, 44, 41, 50, 22, 48, 31, 13,\n",
       "         5, 44, 44, 30,  2, 27, 46, 36, 41, 21, 18, 22, 49, 53,  0, 52, 44,\n",
       "        13, 11, 11, 42,  3, 15, 29, 12, 12, 53, 37, 41, 51,  0, 40, 42, 13,\n",
       "        34, 13, 38, 51, 26, 53, 40, 45, 47, 36, 29, 44, 44, 44, 48, 26, 25,\n",
       "        17, 20, 32,  8, 12,  4,  0, 31, 15, 23,  2, 36, 37,  0, 35,  0, 16,\n",
       "        38, 48, 26, 15, 26,  0, 22, 36,  5, 32, 22, 11, 33, 48,  6, 10, 43,\n",
       "        18, 34, 52, 42, 38,  7,  5, 47, 48, 51, 22, 16, 33, 19, 10, 41,  2,\n",
       "         8, 53, 16, 41, 52, 13, 15,  7, 39, 13, 34, 22, 53, 24, 19, 39, 16,\n",
       "        11, 20, 30, 20, 14,  9, 15, 37, 35, 40, 45, 11,  4, 49, 25, 31,  8,\n",
       "        14, 48, 12, 39, 23, 36, 14, 45, 52,  8, 48,  1, 42, 41, 36, 33,  1,\n",
       "        31,  8, 26, 13, 47, 27, 29, 12, 31, 12, 50, 27, 26, 29, 21, 42, 44,\n",
       "        18,  3, 26, 49, 36, 13, 49, 20, 50, 53, 12,  5, 13, 17, 41, 21, 11,\n",
       "        47, 12, 51, 28, 25,  6, 45, 31, 13, 19, 38, 17, 13, 50, 42, 28, 18,\n",
       "        29, 25,  8, 18,  7,  8, 43, 38, 12, 51, 13,  7, 19, 20, 46, 16, 41,\n",
       "        52, 47, 35, 44, 36, 26, 30, 50, 22, 43, 28, 29, 28, 18,  4,  6,  5,\n",
       "        30, 20, 42, 48,  3, 35, 39, 37, 38, 35, 17, 20, 42, 23]),\n",
       " (847,))"
      ]
     },
     "execution_count": 11,
     "metadata": {},
     "output_type": "execute_result"
    }
   ],
   "source": [
    "X_train, X_test, Y_train, Y_test = train_test_split(features, \n",
    "                                                    labels, \n",
    "                                                    test_size=0.2,\n",
    "                                                    random_state= selection_seed,\n",
    "                                                    #random_state：可以理解为随机数种子，主要是为了复现结果而设置\n",
    "                                                    stratify=labels)#stratify保证测试集中，所有类别的齐全\n",
    "X_train,X_train.shape,Y_train,Y_train.shape"
   ]
  },
  {
   "cell_type": "code",
   "execution_count": 12,
   "id": "3d931b7b",
   "metadata": {},
   "outputs": [
    {
     "data": {
      "text/plain": [
       "(847, 119)"
      ]
     },
     "execution_count": 12,
     "metadata": {},
     "output_type": "execute_result"
    }
   ],
   "source": [
    "X_train, Y_train = shuffle(X_train, Y_train)\n",
    "\n",
    "#将类别向量映射为二值类别矩阵, 用于应用到以categorical_crossentropy为目标函数的模型中.\n",
    "#to_categorical和pd.get_dummies推荐前者，后者原理更复杂\n",
    "Y_train_encoded = to_categorical(Y_train)\n",
    "Y_test_encoded = to_categorical(Y_test)\n",
    "scaler = StandardScaler()  #from sklearn.preprocessing import StandardScaler\n",
    "X_train_transformed = scaler.fit_transform(X_train)\n",
    "X_test_transformed = scaler.fit_transform(X_test)\n",
    "X_train_transformed.shape"
   ]
  },
  {
   "cell_type": "code",
   "execution_count": 13,
   "id": "0e3bfb8c",
   "metadata": {},
   "outputs": [
    {
     "name": "stderr",
     "output_type": "stream",
     "text": [
      "C:\\Users\\xfp\\AppData\\Local\\Temp\\ipykernel_14124\\3108810693.py:5: TqdmDeprecationWarning: This function will be removed in tqdm==5.0.0\n",
      "Please use `tqdm.notebook.tqdm` instead of `tqdm.tqdm_notebook`\n",
      "  for i in tqdm_notebook(range(times_to_run)):\n"
     ]
    },
    {
     "data": {
      "application/vnd.jupyter.widget-view+json": {
       "model_id": "5fd7143cf533497087081adb474ec4b4",
       "version_major": 2,
       "version_minor": 0
      },
      "text/plain": [
       "  0%|          | 0/10 [00:00<?, ?it/s]"
      ]
     },
     "metadata": {},
     "output_type": "display_data"
    },
    {
     "name": "stdout",
     "output_type": "stream",
     "text": [
      "#0 Test acc: 0.7358490824699402\n",
      "#1 Test acc: 0.7075471878051758\n",
      "#2 Test acc: 0.7264150977134705\n",
      "#3 Test acc: 0.7075471878051758\n",
      "#4 Test acc: 0.7075471878051758\n",
      "#5 Test acc: 0.7452830076217651\n",
      "#6 Test acc: 0.7264150977134705\n",
      "#7 Test acc: 0.6886792182922363\n",
      "#8 Test acc: 0.7028301954269409\n",
      "#9 Test acc: 0.7264150977134705\n"
     ]
    }
   ],
   "source": [
    "all_test_loss =[]\n",
    "all_test_acc = []\n",
    "history = []\n",
    "\n",
    "for i in tqdm_notebook(range(times_to_run)):\n",
    "    seed(i*seed_multiplier)#操作级\n",
    "    tf.random.set_seed(i*seed_multiplier)#图级\n",
    "    inp = Input(shape=input_shape,name='ap_features')\n",
    "    x = Dense(1024,activation=LeakyReLU(alpha=0))(inp)\n",
    "    x = Dropout(0.1)(x)\n",
    "    x = Dense(512,activation=LeakyReLU(alpha=0))(x)\n",
    "    x = Dropout(0.1)(x)\n",
    "    x = Dense(256,activation=LeakyReLU(alpha=0))(x)\n",
    "    x = Dropout(0.1)(x)\n",
    "    x = Dense(128,activation=LeakyReLU(alpha=0))(x)\n",
    "    output = Dense(54,activation='softmax')(x)\n",
    "    model = Model(inp,output)\n",
    "\n",
    "    model.compile(optimizer=Adam(0.0002, 0.5),#learning rate, the exponential decay rate for the 1st moment estimates\n",
    "                                              # 学习率      , 一阶矩估计的指数衰减率\n",
    "                  loss='categorical_crossentropy',\n",
    "                  metrics=['accuracy'])\n",
    "    \n",
    "    history_temp = model.fit(X_train_transformed,\n",
    "                            Y_train_encoded,\n",
    "                            epochs=mlp_epochs,\n",
    "                            batch_size=32,\n",
    "                            validation_split=valid_split,\n",
    "                            verbose=0)\n",
    "    history.append(history_temp)\n",
    "    test_loss, test_acc = model.evaluate(X_test_transformed, \n",
    "                                         Y_test_encoded, \n",
    "                                         verbose=0)\n",
    "    print(\"#{} Test acc:\".format(i), test_acc)\n",
    "\n",
    "    all_test_acc.append(test_acc)\n",
    "    all_test_loss.append(test_loss)\n",
    "    del(model)\n",
    "    clear_session()"
   ]
  },
  {
   "cell_type": "code",
   "execution_count": 14,
   "id": "90c0a4d5",
   "metadata": {},
   "outputs": [
    {
     "data": {
      "text/plain": [
       "(1.1486209988594056, 0.7174528360366821)"
      ]
     },
     "execution_count": 14,
     "metadata": {},
     "output_type": "execute_result"
    },
    {
     "data": {
      "image/png": "[encoded data removed]",
      "text/plain": [
       "<Figure size 640x480 with 1 Axes>"
      ]
     },
     "metadata": {},
     "output_type": "display_data"
    },
    {
     "data": {
      "image/png": "[encoded data removed]",
      "text/plain": [
       "<Figure size 640x480 with 1 Axes>"
      ]
     },
     "metadata": {},
     "output_type": "display_data"
    }
   ],
   "source": [
    "trainacc = []\n",
    "trainloss = []\n",
    "valacc = []\n",
    "valloss = []\n",
    "for i in range (len(history)):\n",
    "    trainacc.append(history[i].history['accuracy'])\n",
    "    trainloss.append(history[i].history['loss'])\n",
    "    valacc.append(history[i].history['val_accuracy'])\n",
    "    valloss.append(history[i].history['val_loss'])\n",
    "\n",
    "acc = np.mean(trainacc, axis=0)\n",
    "val_acc = np.mean(valacc, axis=0)\n",
    "loss = np.mean(trainloss, axis=0)\n",
    "val_loss = np.mean(valloss, axis=0)\n",
    "epochs = range(1, len(acc) + 1)\n",
    "\n",
    "now = datetime.datetime.now()\n",
    "plt.plot(epochs, acc, 'bo', label='Training acc')\n",
    "plt.plot(epochs, val_acc, 'b', label='Validation acc')\n",
    "plt.title('Training and validation accuracy')\n",
    "plt.legend()#作用是加上图例，很有必要\n",
    "plt.savefig(\"./real/real_TRandVAL_acc.png\")\n",
    "plt.figure()#创建新图\n",
    "plt.plot(epochs, loss, 'bo', label='Training loss')\n",
    "plt.plot(epochs, val_loss, 'b', label='Validation loss')\n",
    "plt.title('Training and validation loss')\n",
    "plt.legend()\n",
    "plt.savefig(\"./real/real_TRandVAL_loss.png\")\n",
    "test_loss = np.mean(all_test_loss, axis=0)\n",
    "test_acc = np.mean(all_test_acc, axis=0)\n",
    "test_loss,test_acc"
   ]
  },
  {
   "cell_type": "code",
   "execution_count": 18,
   "id": "490d69d7",
   "metadata": {},
   "outputs": [
    {
     "name": "stdout",
     "output_type": "stream",
     "text": [
      "the accurancy is: 0.7783\n"
     ]
    }
   ],
   "source": [
    "from sklearn import neighbors\n",
    "\n",
    "knn1 = neighbors.KNeighborsClassifier(n_neighbors = 1)\n",
    "# knn1.fit(new_x_train,y_train)\n",
    "knn1.fit(X_train,Y_train)\n",
    "acc = knn1.score(X_test,Y_test) \n",
    "print('the accurancy is: %.4f'  %acc)"
   ]
  },
  {
   "cell_type": "code",
   "execution_count": 19,
   "id": "66a0d0d7",
   "metadata": {},
   "outputs": [],
   "source": [
    "AccMean = np.mean(all_test_acc)\n",
    "LossMean = np.mean(all_test_loss)\n",
    "AccStd = np.std(all_test_acc)\n",
    "LossStd = np.std(all_test_loss)\n",
    "\n",
    "lines  = list()\n",
    "# lines.append(\"Original Data (Each Class: {} Real):\".format(num_of_data))\n",
    "lines.append(\"Accuracy mean: {}\".format(AccMean))\n",
    "lines.append(\"Loss mean: {}\".format(LossMean))\n",
    "lines.append(\"Accuracy STD: {}\".format(AccStd))\n",
    "lines.append(\"Loss STD: {} \\n\".format(LossStd))\n",
    "lines.append(\"Maximum Accuracy: {}\".format(np.max(all_test_acc)))\n",
    "lines.append(\"Loss of Maximum Accuracy: {}\".format(\n",
    "    all_test_loss[np.argmax(all_test_acc)]))\n",
    "lines.append(\"acc of the knn: {}\".format(acc))\n",
    "file_dir = (\"./real/test.txt\")\n",
    "with open(file_dir, \"w\") as filehandle:\n",
    "    for items in lines:\n",
    "        filehandle.write('%s\\n' % items)"
   ]
  }
 ],
 "metadata": {
  "kernelspec": {
   "display_name": "tensorflow",
   "language": "python",
   "name": "tensorflow"
  },
  "language_info": {
   "codemirror_mode": {
    "name": "ipython",
    "version": 3
   },
   "file_extension": ".py",
   "mimetype": "text/x-python",
   "name": "python",
   "nbconvert_exporter": "python",
   "pygments_lexer": "ipython3",
   "version": "3.9.12"
  }
 },
 "nbformat": 4,
 "nbformat_minor": 5
}
