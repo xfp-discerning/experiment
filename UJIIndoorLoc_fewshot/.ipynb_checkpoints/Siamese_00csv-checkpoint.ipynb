{
 "cells": [
  {
   "cell_type": "code",
   "execution_count": 1,
   "id": "0ce09e7e",
   "metadata": {},
   "outputs": [],
   "source": [
    "import tensorflow as tf \n",
    "import numpy as np\n",
    "import pandas as pd\n",
    "from keras.layers import Flatten,concatenate,Dense\n",
    "from keras.layers import Input\n",
    "from keras.models import Model\n",
    "from keras.utils.vis_utils import plot_model"
   ]
  },
  {
   "cell_type": "markdown",
   "id": "60b24820",
   "metadata": {},
   "source": [
    "### 定义特征提取网络"
   ]
  },
  {
   "cell_type": "code",
   "execution_count": null,
   "id": "64c442ef",
   "metadata": {},
   "outputs": [],
   "source": [
    "def featureNet():\n",
    "    inp = Input(shape(520,1),name = 'ap_feature')\n",
    "    model = Dense(1024,activation='relu')(inp)\n",
    "    model = Dense(512,activation='relu')(model)\n",
    "    model = Dense(256,activation='relu')(model)\n",
    "    model = Dense(128,activation='relu')(model)"
   ]
  }
 ],
 "metadata": {
  "kernelspec": {
   "display_name": "tensorflow",
   "language": "python",
   "name": "tensorflow"
  },
  "language_info": {
   "codemirror_mode": {
    "name": "ipython",
    "version": 3
   },
   "file_extension": ".py",
   "mimetype": "text/x-python",
   "name": "python",
   "nbconvert_exporter": "python",
   "pygments_lexer": "ipython3",
   "version": "3.9.12"
  }
 },
 "nbformat": 4,
 "nbformat_minor": 5
}
