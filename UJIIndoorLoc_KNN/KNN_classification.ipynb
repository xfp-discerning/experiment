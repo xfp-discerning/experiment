{
 "cells": [
  {
   "cell_type": "code",
   "execution_count": 2,
   "id": "c2d970c4",
   "metadata": {},
   "outputs": [],
   "source": [
    "import numpy as np\n",
    "import pandas as pd\n",
    "from sklearn import neighbors\n",
    "import random as random\n",
    "from sklearn.model_selection import train_test_split\n",
    "from sklearn.utils import shuffle"
   ]
  },
  {
   "cell_type": "code",
   "execution_count": 9,
   "id": "78aaa478",
   "metadata": {},
   "outputs": [
    {
     "name": "stdout",
     "output_type": "stream",
     "text": [
      "[[-110 -110 -110 ... -110 -110 -110]\n",
      " [-110 -110 -110 ... -110 -110 -110]\n",
      " [-110 -110 -110 ... -110 -110 -110]\n",
      " ...\n",
      " [-110 -110 -110 ... -110 -110 -110]\n",
      " [-110 -110 -110 ... -110 -110 -110]\n",
      " [-110 -110 -110 ... -110 -110 -110]] [ 0  0  0 ... 53 53 53]\n"
     ]
    },
    {
     "data": {
      "text/plain": [
       "(array([ 0,  1,  2,  3,  4,  5,  6,  7,  8,  9, 10, 11, 12, 13, 14, 15, 16,\n",
       "        17, 18, 19], dtype=int64),)"
      ]
     },
     "execution_count": 9,
     "metadata": {},
     "output_type": "execute_result"
    }
   ],
   "source": [
    "dataset = pd.read_csv(\"./UJIIndoorLoc/children_13/sorted/00_sorted.csv\")\n",
    "dataset[\"REF\"] = pd.factorize(dataset[\"REF\"])[0].astype(int)#将标签映射到顺序数字上\n",
    "labels = dataset.REF.values\n",
    "features = dataset.drop(columns=['TIMESTAMP','PHONEID','USERID','RELATIVEPOSITION',\n",
    "                                'SPACEID','BUILDINGID','FLOOR','LATITUDE','LONGITUDE',\n",
    "                                'BF','REF']).values\n",
    "print(features,labels)\n",
    "# a = [np.where(labels==0)][0] #返回列表(array([ 0,  1,  2,  3,  4,  5,  6,  7,  8,  9, 10, 11, 12, 13, 14, 15, 16,17, 18, 19], dtype=int64),)\n",
    "# a"
   ]
  },
  {
   "cell_type": "code",
   "execution_count": 8,
   "id": "0d74c07b",
   "metadata": {},
   "outputs": [],
   "source": [
    "X_train, X_test, Y_train, Y_test = train_test_split(features, \n",
    "                                                    labels, \n",
    "                                                    test_size=0.3,\n",
    "                                                    random_state= 150,\n",
    "                                                    #random_state：可以理解为随机数种子，主要是为了复现结果而设置\n",
    "                                                    stratify=labels)\n",
    "X_train,Y_train = shuffle(X_train, Y_train)"
   ]
  },
  {
   "cell_type": "code",
   "execution_count": 9,
   "id": "7ce5e979",
   "metadata": {},
   "outputs": [
    {
     "name": "stdout",
     "output_type": "stream",
     "text": [
      "k = 1  the accurancy is: 0.7264, and it cost 0.0090 s\n",
      "k = 2  the accurancy is: 0.7013, and it cost 0.0010 s\n",
      "k = 3  the accurancy is: 0.7138, and it cost 0.0010 s\n",
      "k = 4  the accurancy is: 0.7044, and it cost 0.0000 s\n",
      "k = 5  the accurancy is: 0.7075, and it cost 0.0000 s\n",
      "k = 6  the accurancy is: 0.7170, and it cost 0.0000 s\n",
      "k = 7  the accurancy is: 0.7170, and it cost 0.0000 s\n",
      "k = 8  the accurancy is: 0.6981, and it cost 0.0000 s\n",
      "k = 9  the accurancy is: 0.6855, and it cost 0.0000 s\n",
      "k = 10  the accurancy is: 0.6792, and it cost 0.0010 s\n"
     ]
    }
   ],
   "source": [
    "import time\n",
    "for k in range(10):\n",
    "    s_time = time.time()\n",
    "    knn = neighbors.KNeighborsClassifier(n_neighbors = k+1)\n",
    "    knn.fit(X_train,Y_train)\n",
    "#   t_label = knn.predict(X_test)\n",
    "    e_time = time.time()\n",
    "    acc = knn.score(X_test,Y_test) \n",
    "    print('k = %d  the accurancy is: %.4f, and it cost %.4f s'  % (k+1, acc, e_time-s_time))"
   ]
  }
 ],
 "metadata": {
  "kernelspec": {
   "display_name": "tensorflow",
   "language": "python",
   "name": "tensorflow"
  },
  "language_info": {
   "codemirror_mode": {
    "name": "ipython",
    "version": 3
   },
   "file_extension": ".py",
   "mimetype": "text/x-python",
   "name": "python",
   "nbconvert_exporter": "python",
   "pygments_lexer": "ipython3",
   "version": "3.9.12"
  }
 },
 "nbformat": 4,
 "nbformat_minor": 5
}
